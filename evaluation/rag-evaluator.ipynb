{
 "cells": [
  {
   "cell_type": "code",
   "execution_count": null,
   "id": "66df78c1",
   "metadata": {},
   "outputs": [],
   "source": [
    "import json\n",
    "import pandas as pd\n",
    "from typing import List, Dict\n",
    "import openai\n",
    "from tqdm import tqdm\n",
    "\n",
    "class RAGEvaluator:\n",
    "    def __init__(self, openai_client, vector_store, rag_function):\n",
    "        \"\"\"\n",
    "        Initialize evaluator\n",
    "        \n",
    "        Args:\n",
    "            openai_client: OpenAI client instance\n",
    "            vector_store: Your ArizonaPlantVectorStore instance\n",
    "            rag_function: Your rag() function\n",
    "        \"\"\"\n",
    "        self.client = openai_client\n",
    "        self.vector_store = vector_store\n",
    "        self.rag = rag_function\n",
    "    \n",
    "    # ============================================================\n",
    "    # PART 1: Generate Ground Truth Questions\n",
    "    # ============================================================\n",
    "    \n",
    "    def generate_questions_for_document(self, document: Dict, num_questions: int = 3) -> List[Dict]:\n",
    "        \"\"\"\n",
    "        Generate questions for a single document\n",
    "        \n",
    "        Args:\n",
    "            document: Document dict with 'content', 'title', etc.\n",
    "            num_questions: Number of questions to generate\n",
    "            \n",
    "        Returns:\n",
    "            List of question-answer pairs\n",
    "        \"\"\"\n",
    "        content = document.get('content', '')[:2000]  # Limit context\n",
    "        title = document.get('title', 'Unknown')\n",
    "        \n",
    "        prompt = f\"\"\"Based on the following document about Arizona desert plants, generate {num_questions} realistic questions that a gardener or plant enthusiast might ask.\n",
    "\n",
    "Document Title: {title}\n",
    "Document Content:\n",
    "{content}\n",
    "\n",
    "Generate {num_questions} questions that:\n",
    "1. Are specific and answerable from this document\n",
    "2. Represent realistic user queries (mix of detailed and simple)\n",
    "3. Include scientific and common plant names when relevant\n",
    "4. Focus on practical gardening concerns (care, identification, selection)\n",
    "\n",
    "Return ONLY a JSON array of questions, like this:\n",
    "[\"Question 1?\", \"Question 2?\", \"Question 3?\"]\n",
    "\n",
    "Questions:\"\"\"\n",
    "        \n",
    "        response = self.client.chat.completions.create(\n",
    "            model='gpt-4o-mini',\n",
    "            messages=[{\"role\": \"user\", \"content\": prompt}],\n",
    "            temperature=0.8  # More creative for diverse questions\n",
    "        )\n",
    "        \n",
    "        questions_text = response.choices[0].message.content.strip()\n",
    "        \n",
    "        # Parse JSON\n",
    "        try:\n",
    "            # Remove markdown code blocks if present\n",
    "            if '```' in questions_text:\n",
    "                questions_text = questions_text.split('```')[1]\n",
    "                if questions_text.startswith('json'):\n",
    "                    questions_text = questions_text[4:]\n",
    "            \n",
    "            questions = json.loads(questions_text)\n",
    "        except:\n",
    "            # Fallback parsing\n",
    "            questions = [q.strip() for q in questions_text.split('\\n') if q.strip() and '?' in q]\n",
    "        \n",
    "        # Generate answers for each question\n",
    "        qa_pairs = []\n",
    "        for question in questions[:num_questions]:\n",
    "            answer_prompt = f\"\"\"Based ONLY on the following document, answer this question concisely:\n",
    "\n",
    "Document: {content}\n",
    "\n",
    "Question: {question}\n",
    "\n",
    "Answer (2-3 sentences):\"\"\"\n",
    "            \n",
    "            answer_response = self.client.chat.completions.create(\n",
    "                model='gpt-4o-mini',\n",
    "                messages=[{\"role\": \"user\", \"content\": answer_prompt}],\n",
    "                temperature=0.3  # More factual\n",
    "            )\n",
    "            \n",
    "            answer = answer_response.choices[0].message.content.strip()\n",
    "            \n",
    "            qa_pairs.append({\n",
    "                'question': question,\n",
    "                'ground_truth_answer': answer,\n",
    "                'source_doc_id': document.get('id'),\n",
    "                'source_doc_title': title,\n",
    "                'document_type': document.get('type')\n",
    "            })\n",
    "        \n",
    "        return qa_pairs\n",
    "    \n",
    "    def generate_ground_truth_dataset(self, documents: List[Dict], \n",
    "                                     questions_per_doc: int = 3,\n",
    "                                     max_documents: int = 50) -> List[Dict]:\n",
    "        \"\"\"\n",
    "        Generate ground truth Q&A dataset from your documents\n",
    "        \n",
    "        Args:\n",
    "            documents: List of document dicts\n",
    "            questions_per_doc: Questions to generate per document\n",
    "            max_documents: Limit number of documents to process\n",
    "            \n",
    "        Returns:\n",
    "            List of Q&A pairs with metadata\n",
    "        \"\"\"\n",
    "        print(f\"Generating ground truth dataset from {min(len(documents), max_documents)} documents...\")\n",
    "        \n",
    "        all_qa_pairs = []\n",
    "        \n",
    "        # Sample diverse documents\n",
    "        docs_to_process = documents[:max_documents]\n",
    "        \n",
    "        for doc in tqdm(docs_to_process, desc=\"Generating questions\"):\n",
    "            try:\n",
    "                qa_pairs = self.generate_questions_for_document(doc, questions_per_doc)\n",
    "                all_qa_pairs.extend(qa_pairs)\n",
    "            except Exception as e:\n",
    "                print(f\"Error processing document {doc.get('id')}: {e}\")\n",
    "                continue\n",
    "        \n",
    "        print(f\"✓ Generated {len(all_qa_pairs)} question-answer pairs\")\n",
    "        return all_qa_pairs\n",
    "    \n",
    "    # ============================================================\n",
    "    # PART 2: Retrieval Evaluation\n",
    "    # ============================================================\n",
    "    \n",
    "    def evaluate_retrieval(self, qa_pair: Dict, top_k: int = 5) -> Dict:\n",
    "        \"\"\"\n",
    "        Evaluate if retrieval finds the correct source document\n",
    "        \n",
    "        Args:\n",
    "            qa_pair: Dict with 'question' and 'source_doc_id'\n",
    "            top_k: Number of results to check\n",
    "            \n",
    "        Returns:\n",
    "            Dict with retrieval metrics\n",
    "        \"\"\"\n",
    "        question = qa_pair['question']\n",
    "        expected_doc_id = qa_pair['source_doc_id']\n",
    "        \n",
    "        # Get search results\n",
    "        results = self.vector_store.search(question, limit=top_k)\n",
    "        \n",
    "        # Check if expected doc is in results\n",
    "        retrieved_ids = [r.get('id') for r in results]\n",
    "        \n",
    "        hit = expected_doc_id in retrieved_ids\n",
    "        \n",
    "        # Find rank (position) if present\n",
    "        rank = None\n",
    "        if hit:\n",
    "            rank = retrieved_ids.index(expected_doc_id) + 1  # 1-indexed\n",
    "        \n",
    "        # Reciprocal rank for MRR calculation\n",
    "        reciprocal_rank = 1.0 / rank if rank else 0.0\n",
    "        \n",
    "        return {\n",
    "            'hit': hit,\n",
    "            'rank': rank,\n",
    "            'reciprocal_rank': reciprocal_rank,\n",
    "            'retrieved_ids': retrieved_ids[:3],  # Top 3 for inspection\n",
    "            'top_score': results[0]['score'] if results else 0.0\n",
    "        }\n",
    "    \n",
    "    # ============================================================\n",
    "    # PART 3: Answer Quality Evaluation (LLM-as-Judge)\n",
    "    # ============================================================\n",
    "    \n",
    "    def evaluate_answer_quality(self, question: str, generated_answer: str, \n",
    "                                ground_truth_answer: str, retrieved_docs: List[Dict]) -> Dict:\n",
    "        \"\"\"\n",
    "        Use LLM to judge answer quality on multiple criteria\n",
    "        \n",
    "        Args:\n",
    "            question: User's question\n",
    "            generated_answer: Your RAG system's answer\n",
    "            ground_truth_answer: Expected answer\n",
    "            retrieved_docs: Documents retrieved by your system\n",
    "            \n",
    "        Returns:\n",
    "            Dict with quality scores\n",
    "        \"\"\"\n",
    "        # Build context from retrieved docs\n",
    "        context = \"\\n\\n\".join([\n",
    "            f\"Doc {i+1}: {doc.get('content', '')[:500]}\"\n",
    "            for i, doc in enumerate(retrieved_docs[:3])\n",
    "        ])\n",
    "        \n",
    "        evaluation_prompt = f\"\"\"You are evaluating a question-answering system about Arizona desert plants.\n",
    "\n",
    "Question: {question}\n",
    "\n",
    "Retrieved Context:\n",
    "{context}\n",
    "\n",
    "Generated Answer: {generated_answer}\n",
    "\n",
    "Ground Truth Answer: {ground_truth_answer}\n",
    "\n",
    "Evaluate the Generated Answer on these criteria (rate 1-5):\n",
    "\n",
    "1. RELEVANCE: Does it directly answer the question?\n",
    "2. FAITHFULNESS: Is it grounded in the retrieved context (no hallucinations)?\n",
    "3. COMPLETENESS: Does it cover key points from ground truth?\n",
    "4. CLARITY: Is it well-written and easy to understand?\n",
    "\n",
    "Respond ONLY with a JSON object:\n",
    "{{\n",
    "    \"relevance\": <score 1-5>,\n",
    "    \"faithfulness\": <score 1-5>,\n",
    "    \"completeness\": <score 1-5>,\n",
    "    \"clarity\": <score 1-5>,\n",
    "    \"reasoning\": \"<brief explanation>\"\n",
    "}}\"\"\"\n",
    "        \n",
    "        response = self.client.chat.completions.create(\n",
    "            model='gpt-4o-mini',\n",
    "            messages=[{\"role\": \"user\", \"content\": evaluation_prompt}],\n",
    "            temperature=0.2\n",
    "        )\n",
    "        \n",
    "        eval_text = response.choices[0].message.content.strip()\n",
    "        \n",
    "        # Parse JSON\n",
    "        try:\n",
    "            if '```' in eval_text:\n",
    "                eval_text = eval_text.split('```')[1]\n",
    "                if eval_text.startswith('json'):\n",
    "                    eval_text = eval_text[4:]\n",
    "            \n",
    "            scores = json.loads(eval_text)\n",
    "        except:\n",
    "            # Fallback if parsing fails\n",
    "            scores = {\n",
    "                'relevance': 3,\n",
    "                'faithfulness': 3,\n",
    "                'completeness': 3,\n",
    "                'clarity': 3,\n",
    "                'reasoning': 'Parse error'\n",
    "            }\n",
    "        \n",
    "        # Calculate average score\n",
    "        scores['average_score'] = (\n",
    "            scores['relevance'] + \n",
    "            scores['faithfulness'] + \n",
    "            scores['completeness'] + \n",
    "            scores['clarity']\n",
    "        ) / 4.0\n",
    "        \n",
    "        return scores\n",
    "    \n",
    "    # ============================================================\n",
    "    # PART 4: Complete Evaluation Pipeline\n",
    "    # ============================================================\n",
    "    \n",
    "    def evaluate_rag_system(self, ground_truth_dataset: List[Dict], \n",
    "                           save_results: bool = True) -> pd.DataFrame:\n",
    "        \"\"\"\n",
    "        Run complete evaluation on your RAG system\n",
    "        \n",
    "        Args:\n",
    "            ground_truth_dataset: List of Q&A pairs\n",
    "            save_results: Whether to save detailed results to file\n",
    "            \n",
    "        Returns:\n",
    "            DataFrame with evaluation results\n",
    "        \"\"\"\n",
    "        print(f\"\\nEvaluating RAG system on {len(ground_truth_dataset)} questions...\")\n",
    "        print(\"=\"*60)\n",
    "        \n",
    "        results = []\n",
    "        \n",
    "        for i, qa_pair in enumerate(tqdm(ground_truth_dataset, desc=\"Evaluating\"), 1):\n",
    "            question = qa_pair['question']\n",
    "            \n",
    "            try:\n",
    "                # 1. Evaluate retrieval\n",
    "                retrieval_metrics = self.evaluate_retrieval(qa_pair, top_k=5)\n",
    "                \n",
    "                # 2. Generate answer with RAG\n",
    "                generated_answer = self.rag(question)\n",
    "                \n",
    "                # 3. Get retrieved docs for context\n",
    "                retrieved_docs = self.vector_store.search(question, limit=5)\n",
    "                \n",
    "                # 4. Evaluate answer quality\n",
    "                quality_metrics = self.evaluate_answer_quality(\n",
    "                    question=question,\n",
    "                    generated_answer=generated_answer,\n",
    "                    ground_truth_answer=qa_pair['ground_truth_answer'],\n",
    "                    retrieved_docs=retrieved_docs\n",
    "                )\n",
    "                \n",
    "                # Combine all metrics\n",
    "                result = {\n",
    "                    'question': question,\n",
    "                    'ground_truth_answer': qa_pair['ground_truth_answer'],\n",
    "                    'generated_answer': generated_answer,\n",
    "                    'source_doc_id': qa_pair['source_doc_id'],\n",
    "                    'source_doc_title': qa_pair.get('source_doc_title'),\n",
    "                    \n",
    "                    # Retrieval metrics\n",
    "                    'retrieval_hit': retrieval_metrics['hit'],\n",
    "                    'retrieval_rank': retrieval_metrics['rank'],\n",
    "                    'retrieval_reciprocal_rank': retrieval_metrics['reciprocal_rank'],\n",
    "                    \n",
    "                    # Answer quality metrics\n",
    "                    'relevance': quality_metrics['relevance'],\n",
    "                    'faithfulness': quality_metrics['faithfulness'],\n",
    "                    'completeness': quality_metrics['completeness'],\n",
    "                    'clarity': quality_metrics['clarity'],\n",
    "                    'average_score': quality_metrics['average_score'],\n",
    "                    'reasoning': quality_metrics.get('reasoning', '')\n",
    "                }\n",
    "                \n",
    "                results.append(result)\n",
    "                \n",
    "            except Exception as e:\n",
    "                print(f\"\\nError evaluating question {i}: {e}\")\n",
    "                continue\n",
    "        \n",
    "        # Convert to DataFrame\n",
    "        df_results = pd.DataFrame(results)\n",
    "        \n",
    "        # Calculate aggregate metrics\n",
    "        print(\"\\n\" + \"=\"*60)\n",
    "        print(\"EVALUATION RESULTS\")\n",
    "        print(\"=\"*60)\n",
    "        \n",
    "        print(\"\\n📊 Retrieval Metrics:\")\n",
    "        print(f\"  Hit Rate@5: {df_results['retrieval_hit'].mean():.2%}\")\n",
    "        print(f\"  Mean Reciprocal Rank: {df_results['retrieval_reciprocal_rank'].mean():.3f}\")\n",
    "        \n",
    "        print(\"\\n📝 Answer Quality (Average scores out of 5):\")\n",
    "        print(f\"  Relevance:     {df_results['relevance'].mean():.2f}\")\n",
    "        print(f\"  Faithfulness:  {df_results['faithfulness'].mean():.2f}\")\n",
    "        print(f\"  Completeness:  {df_results['completeness'].mean():.2f}\")\n",
    "        print(f\"  Clarity:       {df_results['clarity'].mean():.2f}\")\n",
    "        print(f\"  Overall:       {df_results['average_score'].mean():.2f}\")\n",
    "        \n",
    "        if save_results:\n",
    "            df_results.to_csv('evaluation/rag_evaluation_results.csv', index=False)\n",
    "            print(f\"\\n✓ Detailed results saved to: evaluation/rag_evaluation_results.csv\")\n",
    "        \n",
    "        return df_results"
   ]
  },
  {
   "cell_type": "code",
   "execution_count": 45,
   "id": "d5086cfc",
   "metadata": {},
   "outputs": [
    {
     "name": "stdout",
     "output_type": "stream",
     "text": [
      "The autoreload extension is already loaded. To reload it, use:\n",
      "  %reload_ext autoreload\n"
     ]
    }
   ],
   "source": [
    "# Run to reload modules automatically\n",
    "\n",
    "%load_ext autoreload\n",
    "%autoreload 2"
   ]
  },
  {
   "cell_type": "code",
   "execution_count": 46,
   "id": "5ff25bee",
   "metadata": {},
   "outputs": [
    {
     "name": "stdout",
     "output_type": "stream",
     "text": [
      "/Users/pachon/training/llm-zoomcamp-class/arizona-desert-plants-chat\n"
     ]
    }
   ],
   "source": [
    "import os\n",
    "print(os.getcwd())\n"
   ]
  },
  {
   "cell_type": "code",
   "execution_count": 18,
   "id": "fd1722db",
   "metadata": {},
   "outputs": [],
   "source": [
    "from openai import OpenAI\n",
    "\n",
    "openai_client = OpenAI()"
   ]
  },
  {
   "cell_type": "code",
   "execution_count": 44,
   "id": "7ee4e4b0",
   "metadata": {},
   "outputs": [],
   "source": [
    "import sys\n",
    "sys.path.append('assistant-app')\n",
    "sys.path.append('../assistant-app')\n",
    "\n",
    "from ArizonaPlantVectorStore import ArizonaPlantVectorStore\n",
    "from ArizonaPlantRAG import ArizonaPlantRAG"
   ]
  },
  {
   "cell_type": "code",
   "execution_count": 43,
   "id": "0c8cdf92",
   "metadata": {},
   "outputs": [],
   "source": [
    "from pathlib import Path\n",
    "from typing import List, Dict\n",
    "\n",
    "def load_dataset(dataset_path: str) -> List[Dict]:\n",
    "    \"\"\"Load the unified dataset\"\"\"\n",
    "    print(f\"\\n3. Loading dataset from: {dataset_path}\")\n",
    "    \n",
    "    path = Path(dataset_path)\n",
    "    \n",
    "    if not path.exists():\n",
    "        raise FileNotFoundError(f\"Dataset not found: {dataset_path}\")\n",
    "    \n",
    "    # Handle different file formats\n",
    "    if path.suffix == '.json':\n",
    "        with open(path, 'r', encoding='utf-8') as f:\n",
    "            documents = json.load(f)\n",
    "    elif path.suffix == '.jsonl':\n",
    "        documents = []\n",
    "        with open(path, 'r', encoding='utf-8') as f:\n",
    "            for line in f:\n",
    "                documents.append(json.loads(line))\n",
    "    else:\n",
    "        raise ValueError(f\"Unsupported file format: {path.suffix}\")\n",
    "    \n",
    "    print(f\"   ✓ Loaded {len(documents)} documents\")\n",
    "    return documents"
   ]
  },
  {
   "cell_type": "markdown",
   "id": "f13fb8ef",
   "metadata": {},
   "source": []
  },
  {
   "cell_type": "markdown",
   "id": "96d36da5",
   "metadata": {},
   "source": [
    "# Ground truth generation\n",
    "We need to leverage the documents we created/generated during the data preparation. Therefore, we are going to be using the ```arizona_plants_unified_20251018.jsonl``` file found in the ```data-preparation``` directory.\n",
    "\n",
    "## Steps:\n",
    "1. Load the documents"
   ]
  },
  {
   "cell_type": "code",
   "execution_count": null,
   "id": "4791187b",
   "metadata": {},
   "outputs": [],
   "source": [
    "from openai import OpenAI\n",
    "\n",
    "vector_store = ArizonaPlantVectorStore()\n",
    "assistant = ArizonaPlantRAG(vector_store, openai_client)\n",
    "\n",
    "\n",
    "# Create evaluator\n",
    "evaluator = RAGEvaluator(\n",
    "     openai_client=openai_client,\n",
    "     vector_store=vector_store,\n",
    "     rag_function=assistant.rag\n",
    ")\n",
    "\n",
    "# load documents\n",
    "documents = load_dataset('data-preparation/arizona_plants_unified_20251018.jsonl')"
   ]
  },
  {
   "cell_type": "markdown",
   "id": "9695ecb9",
   "metadata": {},
   "source": [
    "2. Generate our ground truth dataset -- **THIS ONLY NEEDS TO RUN ONCE UNLESS FIXING SOMETHING ELSE**\n",
    "    1. We are generating 3 questions for 50 documents to obtain statistically meaningful metrics"
   ]
  },
  {
   "cell_type": "code",
   "execution_count": 26,
   "id": "cf56445a",
   "metadata": {},
   "outputs": [
    {
     "name": "stdout",
     "output_type": "stream",
     "text": [
      "Loading embedding model: all-MiniLM-L6-v2\n",
      "✓ Model loaded (dimension: 384)\n",
      "✓ Qdrant client initialized\n",
      "\n",
      "3. Loading dataset from: data-preparation/arizona_plants_unified_20251018.jsonl\n",
      "   ✓ Loaded 340 documents\n",
      "Generating ground truth dataset from 50 documents...\n"
     ]
    },
    {
     "name": "stderr",
     "output_type": "stream",
     "text": [
      "Generating questions: 100%|███████████████████████████████████████████████████████████████████████████████████████████████████████████████████████████████████████████████████████████████████████████████████████████████████████████████████████████████████████████████████████████████████████████████████████████████████████████████| 50/50 [03:35<00:00,  4.32s/it]"
     ]
    },
    {
     "name": "stdout",
     "output_type": "stream",
     "text": [
      "✓ Generated 150 question-answer pairs\n"
     ]
    },
    {
     "name": "stderr",
     "output_type": "stream",
     "text": [
      "\n"
     ]
    }
   ],
   "source": [
    "ground_truth = evaluator.generate_ground_truth_dataset(\n",
    "    documents=documents,\n",
    "    questions_per_doc=3,\n",
    "    max_documents=50  # Start small\n",
    ")\n",
    "\n",
    "with open('evaluation/ground_truth_qa.json', 'w') as f:\n",
    "    json.dump(ground_truth, f, indent=2)\n"
   ]
  },
  {
   "cell_type": "markdown",
   "id": "9d01b369",
   "metadata": {},
   "source": [
    "3. Run the evaluation using LLM as a judge\n",
    "    1. This step takes ~ **30 minutes**"
   ]
  },
  {
   "cell_type": "code",
   "execution_count": 47,
   "id": "61d31c7b",
   "metadata": {},
   "outputs": [
    {
     "data": {
      "text/plain": [
       "{'question': 'Is the tree yucca native to Arizona or another region?',\n",
       " 'ground_truth_answer': 'The tree yucca, or Yucca filifera, is native to central Mexico. Although there are 3,545 observations recorded in Arizona, it is not native to that region.',\n",
       " 'source_doc_id': 'species_290831',\n",
       " 'source_doc_title': 'tree yucca (Yucca filifera)',\n",
       " 'document_type': 'species'}"
      ]
     },
     "execution_count": 47,
     "metadata": {},
     "output_type": "execute_result"
    }
   ],
   "source": [
    "ground_truth[10]"
   ]
  },
  {
   "cell_type": "code",
   "execution_count": 48,
   "id": "af13e982",
   "metadata": {},
   "outputs": [
    {
     "name": "stdout",
     "output_type": "stream",
     "text": [
      "\n",
      "Evaluating RAG system on 150 questions...\n",
      "============================================================\n"
     ]
    },
    {
     "name": "stderr",
     "output_type": "stream",
     "text": [
      "Evaluating:   0%|                                                                                                                                                                                                                                                                                                                                 | 0/150 [00:00<?, ?it/s]"
     ]
    },
    {
     "name": "stdout",
     "output_type": "stream",
     "text": [
      "Searching for: \"What are the common names for Opuntia macrorhiza?\"\n",
      "✓ Found 5 results\n",
      "\n",
      "============================================================\n",
      "RAG Pipeline\n",
      "============================================================\n",
      "Searching for: \"What are the common names for Opuntia macrorhiza?\"\n",
      "✓ Found 5 results\n",
      "Generating answer...\n",
      "✓ Answer generated\n",
      "============================================================\n",
      "\n",
      "Searching for: \"What are the common names for Opuntia macrorhiza?\"\n",
      "✓ Found 5 results\n"
     ]
    },
    {
     "name": "stderr",
     "output_type": "stream",
     "text": [
      "Evaluating:   1%|██                                                                                                                                                                                                                                                                                                                       | 1/150 [00:02<06:41,  2.69s/it]"
     ]
    },
    {
     "name": "stdout",
     "output_type": "stream",
     "text": [
      "Searching for: \"In which regions of the United States can prairie pricklypear be found?\"\n",
      "✓ Found 5 results\n",
      "\n",
      "============================================================\n",
      "RAG Pipeline\n",
      "============================================================\n",
      "Searching for: \"In which regions of the United States can prairie pricklypear be found?\"\n",
      "✓ Found 5 results\n",
      "Generating answer...\n",
      "✓ Answer generated\n",
      "============================================================\n",
      "\n",
      "Searching for: \"In which regions of the United States can prairie pricklypear be found?\"\n",
      "✓ Found 5 results\n"
     ]
    },
    {
     "name": "stderr",
     "output_type": "stream",
     "text": [
      "Evaluating:   1%|████▏                                                                                                                                                                                                                                                                                                                    | 2/150 [00:05<06:29,  2.63s/it]"
     ]
    },
    {
     "name": "stdout",
     "output_type": "stream",
     "text": [
      "Searching for: \"How many observations of Opuntia macrorhiza have been recorded in Arizona?\"\n",
      "✓ Found 5 results\n",
      "\n",
      "============================================================\n",
      "RAG Pipeline\n",
      "============================================================\n",
      "Searching for: \"How many observations of Opuntia macrorhiza have been recorded in Arizona?\"\n",
      "✓ Found 5 results\n",
      "Generating answer...\n",
      "✓ Answer generated\n",
      "============================================================\n",
      "\n",
      "Searching for: \"How many observations of Opuntia macrorhiza have been recorded in Arizona?\"\n",
      "✓ Found 5 results\n"
     ]
    },
    {
     "name": "stderr",
     "output_type": "stream",
     "text": [
      "Evaluating:   2%|██████▎                                                                                                                                                                                                                                                                                                                  | 3/150 [00:07<05:40,  2.32s/it]"
     ]
    },
    {
     "name": "stdout",
     "output_type": "stream",
     "text": [
      "Searching for: \"What family does the Christmas cholla (Cylindropuntia leptocaulis) belong to?\"\n",
      "✓ Found 5 results\n",
      "\n",
      "============================================================\n",
      "RAG Pipeline\n",
      "============================================================\n",
      "Searching for: \"What family does the Christmas cholla (Cylindropuntia leptocaulis) belong to?\"\n",
      "✓ Found 5 results\n",
      "Generating answer...\n",
      "✓ Answer generated\n",
      "============================================================\n",
      "\n",
      "Searching for: \"What family does the Christmas cholla (Cylindropuntia leptocaulis) belong to?\"\n",
      "✓ Found 5 results\n"
     ]
    },
    {
     "name": "stderr",
     "output_type": "stream",
     "text": [
      "Evaluating:   3%|████████▎                                                                                                                                                                                                                                                                                                                | 4/150 [00:09<05:21,  2.20s/it]"
     ]
    },
    {
     "name": "stdout",
     "output_type": "stream",
     "text": [
      "Searching for: \"How many observations of the Christmas cholla have been recorded in Arizona?\"\n",
      "✓ Found 5 results\n",
      "\n",
      "============================================================\n",
      "RAG Pipeline\n",
      "============================================================\n",
      "Searching for: \"How many observations of the Christmas cholla have been recorded in Arizona?\"\n",
      "✓ Found 5 results\n",
      "Generating answer...\n",
      "✓ Answer generated\n",
      "============================================================\n",
      "\n",
      "Searching for: \"How many observations of the Christmas cholla have been recorded in Arizona?\"\n",
      "✓ Found 5 results\n"
     ]
    },
    {
     "name": "stderr",
     "output_type": "stream",
     "text": [
      "Evaluating:   3%|██████████▍                                                                                                                                                                                                                                                                                                              | 5/150 [00:11<05:08,  2.12s/it]"
     ]
    },
    {
     "name": "stdout",
     "output_type": "stream",
     "text": [
      "Searching for: \"What is another common name for Cylindropuntia leptocaulis?\"\n",
      "✓ Found 5 results\n",
      "\n",
      "============================================================\n",
      "RAG Pipeline\n",
      "============================================================\n",
      "Searching for: \"What is another common name for Cylindropuntia leptocaulis?\"\n",
      "✓ Found 5 results\n",
      "Generating answer...\n",
      "✓ Answer generated\n",
      "============================================================\n",
      "\n",
      "Searching for: \"What is another common name for Cylindropuntia leptocaulis?\"\n",
      "✓ Found 5 results\n"
     ]
    },
    {
     "name": "stderr",
     "output_type": "stream",
     "text": [
      "Evaluating:   4%|████████████▌                                                                                                                                                                                                                                                                                                            | 6/150 [00:14<05:47,  2.41s/it]"
     ]
    },
    {
     "name": "stdout",
     "output_type": "stream",
     "text": [
      "Searching for: \"What is the common name of Cylindropuntia tunicata?\"\n",
      "✓ Found 5 results\n",
      "\n",
      "============================================================\n",
      "RAG Pipeline\n",
      "============================================================\n",
      "Searching for: \"What is the common name of Cylindropuntia tunicata?\"\n",
      "✓ Found 5 results\n",
      "Generating answer...\n",
      "✓ Answer generated\n",
      "============================================================\n",
      "\n",
      "Searching for: \"What is the common name of Cylindropuntia tunicata?\"\n",
      "✓ Found 5 results\n"
     ]
    },
    {
     "name": "stderr",
     "output_type": "stream",
     "text": [
      "Evaluating:   5%|██████████████▌                                                                                                                                                                                                                                                                                                          | 7/150 [01:02<41:51, 17.56s/it]"
     ]
    },
    {
     "name": "stdout",
     "output_type": "stream",
     "text": [
      "Searching for: \"In which desert is Thistle Cholla native?\"\n",
      "✓ Found 5 results\n",
      "\n",
      "============================================================\n",
      "RAG Pipeline\n",
      "============================================================\n",
      "Searching for: \"In which desert is Thistle Cholla native?\"\n",
      "✓ Found 5 results\n",
      "Generating answer...\n",
      "✓ Answer generated\n",
      "============================================================\n",
      "\n",
      "Searching for: \"In which desert is Thistle Cholla native?\"\n",
      "✓ Found 5 results\n"
     ]
    },
    {
     "name": "stderr",
     "output_type": "stream",
     "text": [
      "Evaluating:   5%|████████████████▋                                                                                                                                                                                                                                                                                                        | 8/150 [01:05<30:09, 12.74s/it]"
     ]
    },
    {
     "name": "stdout",
     "output_type": "stream",
     "text": [
      "Searching for: \"How many observations of Thistle Cholla have been recorded in Arizona?\"\n",
      "✓ Found 5 results\n",
      "\n",
      "============================================================\n",
      "RAG Pipeline\n",
      "============================================================\n",
      "Searching for: \"How many observations of Thistle Cholla have been recorded in Arizona?\"\n",
      "✓ Found 5 results\n",
      "Generating answer...\n",
      "✓ Answer generated\n",
      "============================================================\n",
      "\n",
      "Searching for: \"How many observations of Thistle Cholla have been recorded in Arizona?\"\n",
      "✓ Found 5 results\n"
     ]
    },
    {
     "name": "stderr",
     "output_type": "stream",
     "text": [
      "Evaluating:   6%|██████████████████▊                                                                                                                                                                                                                                                                                                      | 9/150 [01:07<22:00,  9.37s/it]"
     ]
    },
    {
     "name": "stdout",
     "output_type": "stream",
     "text": [
      "Searching for: \"What family does the tree yucca (Yucca filifera) belong to?\"\n",
      "✓ Found 5 results\n",
      "\n",
      "============================================================\n",
      "RAG Pipeline\n",
      "============================================================\n",
      "Searching for: \"What family does the tree yucca (Yucca filifera) belong to?\"\n",
      "✓ Found 5 results\n",
      "Generating answer...\n",
      "✓ Answer generated\n",
      "============================================================\n",
      "\n",
      "Searching for: \"What family does the tree yucca (Yucca filifera) belong to?\"\n",
      "✓ Found 5 results\n"
     ]
    },
    {
     "name": "stderr",
     "output_type": "stream",
     "text": [
      "Evaluating:   7%|████████████████████▊                                                                                                                                                                                                                                                                                                   | 10/150 [01:09<16:52,  7.23s/it]"
     ]
    },
    {
     "name": "stdout",
     "output_type": "stream",
     "text": [
      "Searching for: \"Is the tree yucca native to Arizona or another region?\"\n",
      "✓ Found 5 results\n",
      "\n",
      "============================================================\n",
      "RAG Pipeline\n",
      "============================================================\n",
      "Searching for: \"Is the tree yucca native to Arizona or another region?\"\n",
      "✓ Found 5 results\n",
      "Generating answer...\n",
      "✓ Answer generated\n",
      "============================================================\n",
      "\n",
      "Searching for: \"Is the tree yucca native to Arizona or another region?\"\n",
      "✓ Found 5 results\n"
     ]
    },
    {
     "name": "stderr",
     "output_type": "stream",
     "text": [
      "Evaluating:   7%|██████████████████████▉                                                                                                                                                                                                                                                                                                 | 11/150 [01:12<13:39,  5.90s/it]"
     ]
    },
    {
     "name": "stdout",
     "output_type": "stream",
     "text": [
      "Searching for: \"How many observations of tree yucca have been recorded in Arizona?\"\n",
      "✓ Found 5 results\n",
      "\n",
      "============================================================\n",
      "RAG Pipeline\n",
      "============================================================\n",
      "Searching for: \"How many observations of tree yucca have been recorded in Arizona?\"\n",
      "✓ Found 5 results\n",
      "Generating answer...\n",
      "✓ Answer generated\n",
      "============================================================\n",
      "\n",
      "Searching for: \"How many observations of tree yucca have been recorded in Arizona?\"\n",
      "✓ Found 5 results\n"
     ]
    },
    {
     "name": "stderr",
     "output_type": "stream",
     "text": [
      "Evaluating:   8%|████████████████████████▉                                                                                                                                                                                                                                                                                               | 12/150 [01:14<10:52,  4.73s/it]"
     ]
    },
    {
     "name": "stdout",
     "output_type": "stream",
     "text": [
      "Searching for: \"What is the common name of Opuntia tomentosa?\"\n",
      "✓ Found 5 results\n",
      "\n",
      "============================================================\n",
      "RAG Pipeline\n",
      "============================================================\n",
      "Searching for: \"What is the common name of Opuntia tomentosa?\"\n",
      "✓ Found 5 results\n",
      "Generating answer...\n",
      "✓ Answer generated\n",
      "============================================================\n",
      "\n",
      "Searching for: \"What is the common name of Opuntia tomentosa?\"\n",
      "✓ Found 5 results\n"
     ]
    },
    {
     "name": "stderr",
     "output_type": "stream",
     "text": [
      "Evaluating:   9%|███████████████████████████                                                                                                                                                                                                                                                                                             | 13/150 [01:16<08:54,  3.90s/it]"
     ]
    },
    {
     "name": "stdout",
     "output_type": "stream",
     "text": [
      "Searching for: \"How many observations of woollyjoint pricklypear have been recorded in Arizona?\"\n",
      "✓ Found 5 results\n",
      "\n",
      "============================================================\n",
      "RAG Pipeline\n",
      "============================================================\n",
      "Searching for: \"How many observations of woollyjoint pricklypear have been recorded in Arizona?\"\n",
      "✓ Found 5 results\n",
      "Generating answer...\n",
      "✓ Answer generated\n",
      "============================================================\n",
      "\n",
      "Searching for: \"How many observations of woollyjoint pricklypear have been recorded in Arizona?\"\n",
      "✓ Found 5 results\n"
     ]
    },
    {
     "name": "stderr",
     "output_type": "stream",
     "text": [
      "Evaluating:   9%|█████████████████████████████                                                                                                                                                                                                                                                                                           | 14/150 [02:04<38:33, 17.01s/it]"
     ]
    },
    {
     "name": "stdout",
     "output_type": "stream",
     "text": [
      "Searching for: \"Is Opuntia tomentosa suitable for gardening in Arizona's climate?\"\n",
      "✓ Found 5 results\n",
      "\n",
      "============================================================\n",
      "RAG Pipeline\n",
      "============================================================\n",
      "Searching for: \"Is Opuntia tomentosa suitable for gardening in Arizona's climate?\"\n",
      "✓ Found 5 results\n",
      "Generating answer...\n",
      "✓ Answer generated\n",
      "============================================================\n",
      "\n",
      "Searching for: \"Is Opuntia tomentosa suitable for gardening in Arizona's climate?\"\n",
      "✓ Found 5 results\n"
     ]
    },
    {
     "name": "stderr",
     "output_type": "stream",
     "text": [
      "Evaluating:  10%|███████████████████████████████▏                                                                                                                                                                                                                                                                                        | 15/150 [02:08<29:35, 13.16s/it]"
     ]
    },
    {
     "name": "stdout",
     "output_type": "stream",
     "text": [
      "Searching for: \"What family does the Dune Wattle (Acacia ligulata) belong to?\"\n",
      "✓ Found 5 results\n",
      "\n",
      "============================================================\n",
      "RAG Pipeline\n",
      "============================================================\n",
      "Searching for: \"What family does the Dune Wattle (Acacia ligulata) belong to?\"\n",
      "✓ Found 5 results\n",
      "Generating answer...\n",
      "✓ Answer generated\n",
      "============================================================\n",
      "\n",
      "Searching for: \"What family does the Dune Wattle (Acacia ligulata) belong to?\"\n",
      "✓ Found 5 results\n"
     ]
    },
    {
     "name": "stderr",
     "output_type": "stream",
     "text": [
      "Evaluating:  11%|█████████████████████████████████▎                                                                                                                                                                                                                                                                                      | 16/150 [02:10<22:19,  9.99s/it]"
     ]
    },
    {
     "name": "stdout",
     "output_type": "stream",
     "text": [
      "Searching for: \"Is the Dune Wattle a rare plant species in Arizona?\"\n",
      "✓ Found 5 results\n",
      "\n",
      "============================================================\n",
      "RAG Pipeline\n",
      "============================================================\n",
      "Searching for: \"Is the Dune Wattle a rare plant species in Arizona?\"\n",
      "✓ Found 5 results\n",
      "Generating answer...\n",
      "✓ Answer generated\n",
      "============================================================\n",
      "\n",
      "Searching for: \"Is the Dune Wattle a rare plant species in Arizona?\"\n",
      "✓ Found 5 results\n"
     ]
    },
    {
     "name": "stderr",
     "output_type": "stream",
     "text": [
      "Evaluating:  11%|███████████████████████████████████▎                                                                                                                                                                                                                                                                                    | 17/150 [02:13<16:56,  7.64s/it]"
     ]
    },
    {
     "name": "stdout",
     "output_type": "stream",
     "text": [
      "Searching for: \"How can I identify Acacia ligulata in the wild?\"\n",
      "✓ Found 5 results\n",
      "\n",
      "============================================================\n",
      "RAG Pipeline\n",
      "============================================================\n",
      "Searching for: \"How can I identify Acacia ligulata in the wild?\"\n",
      "✓ Found 5 results\n",
      "Generating answer...\n",
      "✓ Answer generated\n",
      "============================================================\n",
      "\n",
      "Searching for: \"How can I identify Acacia ligulata in the wild?\"\n",
      "✓ Found 5 results\n"
     ]
    },
    {
     "name": "stderr",
     "output_type": "stream",
     "text": [
      "Evaluating:  12%|█████████████████████████████████████▍                                                                                                                                                                                                                                                                                  | 18/150 [02:17<14:33,  6.62s/it]"
     ]
    },
    {
     "name": "stdout",
     "output_type": "stream",
     "text": [
      "Searching for: \"What family does the foxglove beardtongue belong to?\"\n",
      "✓ Found 5 results\n",
      "\n",
      "============================================================\n",
      "RAG Pipeline\n",
      "============================================================\n",
      "Searching for: \"What family does the foxglove beardtongue belong to?\"\n",
      "✓ Found 5 results\n",
      "Generating answer...\n",
      "✓ Answer generated\n",
      "============================================================\n",
      "\n",
      "Searching for: \"What family does the foxglove beardtongue belong to?\"\n",
      "✓ Found 5 results\n"
     ]
    },
    {
     "name": "stderr",
     "output_type": "stream",
     "text": [
      "Evaluating:  13%|███████████████████████████████████████▌                                                                                                                                                                                                                                                                                | 19/150 [02:19<11:39,  5.34s/it]"
     ]
    },
    {
     "name": "stdout",
     "output_type": "stream",
     "text": [
      "Searching for: \"During which season does the foxglove beardtongue produce flowers?\"\n",
      "✓ Found 5 results\n",
      "\n",
      "============================================================\n",
      "RAG Pipeline\n",
      "============================================================\n",
      "Searching for: \"During which season does the foxglove beardtongue produce flowers?\"\n",
      "✓ Found 5 results\n",
      "Generating answer...\n",
      "✓ Answer generated\n",
      "============================================================\n",
      "\n",
      "Searching for: \"During which season does the foxglove beardtongue produce flowers?\"\n",
      "✓ Found 5 results\n"
     ]
    },
    {
     "name": "stderr",
     "output_type": "stream",
     "text": [
      "Evaluating:  13%|█████████████████████████████████████████▌                                                                                                                                                                                                                                                                              | 20/150 [03:05<37:40, 17.39s/it]"
     ]
    },
    {
     "name": "stdout",
     "output_type": "stream",
     "text": [
      "Searching for: \"Is Penstemon digitalis suitable for Arizona gardens given its native regions?\"\n",
      "✓ Found 5 results\n",
      "\n",
      "============================================================\n",
      "RAG Pipeline\n",
      "============================================================\n",
      "Searching for: \"Is Penstemon digitalis suitable for Arizona gardens given its native regions?\"\n",
      "✓ Found 5 results\n",
      "Generating answer...\n",
      "✓ Answer generated\n",
      "============================================================\n",
      "\n",
      "Searching for: \"Is Penstemon digitalis suitable for Arizona gardens given its native regions?\"\n",
      "✓ Found 5 results\n"
     ]
    },
    {
     "name": "stderr",
     "output_type": "stream",
     "text": [
      "Evaluating:  14%|███████████████████████████████████████████▋                                                                                                                                                                                                                                                                            | 21/150 [03:08<28:25, 13.22s/it]"
     ]
    },
    {
     "name": "stdout",
     "output_type": "stream",
     "text": [
      "Searching for: \"What type of environment does mountain yucca (Yucca madrensis) thrive in?\"\n",
      "✓ Found 5 results\n",
      "\n",
      "============================================================\n",
      "RAG Pipeline\n",
      "============================================================\n",
      "Searching for: \"What type of environment does mountain yucca (Yucca madrensis) thrive in?\"\n",
      "✓ Found 5 results\n",
      "Generating answer...\n",
      "✓ Answer generated\n",
      "============================================================\n",
      "\n",
      "Searching for: \"What type of environment does mountain yucca (Yucca madrensis) thrive in?\"\n",
      "✓ Found 5 results\n"
     ]
    },
    {
     "name": "stderr",
     "output_type": "stream",
     "text": [
      "Evaluating:  15%|█████████████████████████████████████████████▊                                                                                                                                                                                                                                                                          | 22/150 [03:11<21:33, 10.11s/it]"
     ]
    },
    {
     "name": "stdout",
     "output_type": "stream",
     "text": [
      "Searching for: \"Is mountain yucca native to Arizona, and where else can it be found?\"\n",
      "✓ Found 5 results\n",
      "\n",
      "============================================================\n",
      "RAG Pipeline\n",
      "============================================================\n",
      "Searching for: \"Is mountain yucca native to Arizona, and where else can it be found?\"\n",
      "✓ Found 5 results\n",
      "Generating answer...\n",
      "✓ Answer generated\n",
      "============================================================\n",
      "\n",
      "Searching for: \"Is mountain yucca native to Arizona, and where else can it be found?\"\n",
      "✓ Found 5 results\n"
     ]
    },
    {
     "name": "stderr",
     "output_type": "stream",
     "text": [
      "Evaluating:  15%|███████████████████████████████████████████████▊                                                                                                                                                                                                                                                                        | 23/150 [03:14<17:00,  8.04s/it]"
     ]
    },
    {
     "name": "stdout",
     "output_type": "stream",
     "text": [
      "Searching for: \"What family and genus does the mountain yucca (Yucca madrensis) belong to?\"\n",
      "✓ Found 5 results\n",
      "\n",
      "============================================================\n",
      "RAG Pipeline\n",
      "============================================================\n",
      "Searching for: \"What family and genus does the mountain yucca (Yucca madrensis) belong to?\"\n",
      "✓ Found 5 results\n",
      "Generating answer...\n",
      "✓ Answer generated\n",
      "============================================================\n",
      "\n",
      "Searching for: \"What family and genus does the mountain yucca (Yucca madrensis) belong to?\"\n",
      "✓ Found 5 results\n"
     ]
    },
    {
     "name": "stderr",
     "output_type": "stream",
     "text": [
      "Evaluating:  16%|█████████████████████████████████████████████████▉                                                                                                                                                                                                                                                                      | 24/150 [03:17<13:52,  6.61s/it]"
     ]
    },
    {
     "name": "stdout",
     "output_type": "stream",
     "text": [
      "Searching for: \"What is the scientific name of the narrowleaf yucca?\"\n",
      "✓ Found 5 results\n",
      "\n",
      "============================================================\n",
      "RAG Pipeline\n",
      "============================================================\n",
      "Searching for: \"What is the scientific name of the narrowleaf yucca?\"\n",
      "✓ Found 5 results\n",
      "Generating answer...\n",
      "✓ Answer generated\n",
      "============================================================\n",
      "\n",
      "Searching for: \"What is the scientific name of the narrowleaf yucca?\"\n",
      "✓ Found 5 results\n"
     ]
    },
    {
     "name": "stderr",
     "output_type": "stream",
     "text": [
      "Evaluating:  17%|████████████████████████████████████████████████████                                                                                                                                                                                                                                                                    | 25/150 [03:20<11:00,  5.28s/it]"
     ]
    },
    {
     "name": "stdout",
     "output_type": "stream",
     "text": [
      "Searching for: \"Is the narrowleaf yucca native to regions outside of Arizona?\"\n",
      "✓ Found 5 results\n",
      "\n",
      "============================================================\n",
      "RAG Pipeline\n",
      "============================================================\n",
      "Searching for: \"Is the narrowleaf yucca native to regions outside of Arizona?\"\n",
      "✓ Found 5 results\n",
      "Generating answer...\n",
      "✓ Answer generated\n",
      "============================================================\n",
      "\n",
      "Searching for: \"Is the narrowleaf yucca native to regions outside of Arizona?\"\n",
      "✓ Found 5 results\n"
     ]
    },
    {
     "name": "stderr",
     "output_type": "stream",
     "text": [
      "Evaluating:  17%|██████████████████████████████████████████████████████                                                                                                                                                                                                                                                                  | 26/150 [03:22<09:11,  4.45s/it]"
     ]
    },
    {
     "name": "stdout",
     "output_type": "stream",
     "text": [
      "Searching for: \"Can the narrowleaf yucca be grown as an ornamental plant in areas other than its native habitat?\"\n",
      "✓ Found 5 results\n",
      "\n",
      "============================================================\n",
      "RAG Pipeline\n",
      "============================================================\n",
      "Searching for: \"Can the narrowleaf yucca be grown as an ornamental plant in areas other than its native habitat?\"\n",
      "✓ Found 5 results\n",
      "Generating answer...\n",
      "✓ Answer generated\n",
      "============================================================\n",
      "\n",
      "Searching for: \"Can the narrowleaf yucca be grown as an ornamental plant in areas other than its native habitat?\"\n",
      "✓ Found 5 results\n"
     ]
    },
    {
     "name": "stderr",
     "output_type": "stream",
     "text": [
      "Evaluating:  18%|████████████████████████████████████████████████████████▏                                                                                                                                                                                                                                                               | 27/150 [04:08<34:24, 16.78s/it]"
     ]
    },
    {
     "name": "stdout",
     "output_type": "stream",
     "text": [
      "Searching for: \"What is the maximum height of the Seashore Lupine (Lupinus littoralis)?\"\n",
      "✓ Found 5 results\n",
      "\n",
      "============================================================\n",
      "RAG Pipeline\n",
      "============================================================\n",
      "Searching for: \"What is the maximum height of the Seashore Lupine (Lupinus littoralis)?\"\n",
      "✓ Found 5 results\n",
      "Generating answer...\n",
      "✓ Answer generated\n",
      "============================================================\n",
      "\n",
      "Searching for: \"What is the maximum height of the Seashore Lupine (Lupinus littoralis)?\"\n",
      "✓ Found 5 results\n"
     ]
    },
    {
     "name": "stderr",
     "output_type": "stream",
     "text": [
      "Evaluating:  19%|██████████████████████████████████████████████████████████▏                                                                                                                                                                                                                                                             | 28/150 [04:10<25:18, 12.45s/it]"
     ]
    },
    {
     "name": "stdout",
     "output_type": "stream",
     "text": [
      "Searching for: \"What type of habitat does Lupinus littoralis prefer for growth?\"\n",
      "✓ Found 5 results\n",
      "\n",
      "============================================================\n",
      "RAG Pipeline\n",
      "============================================================\n",
      "Searching for: \"What type of habitat does Lupinus littoralis prefer for growth?\"\n",
      "✓ Found 5 results\n",
      "Generating answer...\n",
      "✓ Answer generated\n",
      "============================================================\n",
      "\n",
      "Searching for: \"What type of habitat does Lupinus littoralis prefer for growth?\"\n",
      "✓ Found 5 results\n"
     ]
    },
    {
     "name": "stderr",
     "output_type": "stream",
     "text": [
      "Evaluating:  19%|████████████████████████████████████████████████████████████▎                                                                                                                                                                                                                                                           | 29/150 [04:15<20:23, 10.11s/it]"
     ]
    },
    {
     "name": "stdout",
     "output_type": "stream",
     "text": [
      "Searching for: \"Is the Seashore Lupine suitable for gardening in Arizona's sandy soils?\"\n",
      "✓ Found 5 results\n",
      "\n",
      "============================================================\n",
      "RAG Pipeline\n",
      "============================================================\n",
      "Searching for: \"Is the Seashore Lupine suitable for gardening in Arizona's sandy soils?\"\n",
      "✓ Found 5 results\n",
      "Generating answer...\n",
      "✓ Answer generated\n",
      "============================================================\n",
      "\n",
      "Searching for: \"Is the Seashore Lupine suitable for gardening in Arizona's sandy soils?\"\n",
      "✓ Found 5 results\n"
     ]
    },
    {
     "name": "stderr",
     "output_type": "stream",
     "text": [
      "Evaluating:  20%|██████████████████████████████████████████████████████████████▍                                                                                                                                                                                                                                                         | 30/150 [04:18<16:20,  8.17s/it]"
     ]
    },
    {
     "name": "stdout",
     "output_type": "stream",
     "text": [
      "Searching for: \"What family does the Cootamundra wattle (Acacia baileyana) belong to?\"\n",
      "✓ Found 5 results\n",
      "\n",
      "============================================================\n",
      "RAG Pipeline\n",
      "============================================================\n",
      "Searching for: \"What family does the Cootamundra wattle (Acacia baileyana) belong to?\"\n",
      "✓ Found 5 results\n",
      "Generating answer...\n",
      "✓ Answer generated\n",
      "============================================================\n",
      "\n",
      "Searching for: \"What family does the Cootamundra wattle (Acacia baileyana) belong to?\"\n",
      "✓ Found 5 results\n"
     ]
    },
    {
     "name": "stderr",
     "output_type": "stream",
     "text": [
      "Evaluating:  21%|████████████████████████████████████████████████████████████████▍                                                                                                                                                                                                                                                       | 31/150 [04:21<12:54,  6.51s/it]"
     ]
    },
    {
     "name": "stdout",
     "output_type": "stream",
     "text": [
      "Searching for: \"Is Cootamundra wattle suitable for planting in Arizona gardens?\"\n",
      "✓ Found 5 results\n",
      "\n",
      "============================================================\n",
      "RAG Pipeline\n",
      "============================================================\n",
      "Searching for: \"Is Cootamundra wattle suitable for planting in Arizona gardens?\"\n",
      "✓ Found 5 results\n",
      "Generating answer...\n",
      "✓ Answer generated\n",
      "============================================================\n",
      "\n",
      "Searching for: \"Is Cootamundra wattle suitable for planting in Arizona gardens?\"\n",
      "✓ Found 5 results\n"
     ]
    },
    {
     "name": "stderr",
     "output_type": "stream",
     "text": [
      "Evaluating:  21%|██████████████████████████████████████████████████████████████████▌                                                                                                                                                                                                                                                     | 32/150 [05:07<36:01, 18.32s/it]"
     ]
    },
    {
     "name": "stdout",
     "output_type": "stream",
     "text": [
      "Searching for: \"How does Acacia baileyana compete with indigenous species in areas where it becomes naturalised?\"\n",
      "✓ Found 5 results\n",
      "\n",
      "============================================================\n",
      "RAG Pipeline\n",
      "============================================================\n",
      "Searching for: \"How does Acacia baileyana compete with indigenous species in areas where it becomes naturalised?\"\n",
      "✓ Found 5 results\n",
      "Generating answer...\n",
      "✓ Answer generated\n",
      "============================================================\n",
      "\n",
      "Searching for: \"How does Acacia baileyana compete with indigenous species in areas where it becomes naturalised?\"\n",
      "✓ Found 5 results\n"
     ]
    },
    {
     "name": "stderr",
     "output_type": "stream",
     "text": [
      "Evaluating:  22%|████████████████████████████████████████████████████████████████████▋                                                                                                                                                                                                                                                   | 33/150 [05:10<27:05, 13.89s/it]"
     ]
    },
    {
     "name": "stdout",
     "output_type": "stream",
     "text": [
      "Searching for: \"What family does the beaked yucca (Yucca rostrata) belong to?\"\n",
      "✓ Found 5 results\n",
      "\n",
      "============================================================\n",
      "RAG Pipeline\n",
      "============================================================\n",
      "Searching for: \"What family does the beaked yucca (Yucca rostrata) belong to?\"\n",
      "✓ Found 5 results\n",
      "Generating answer...\n",
      "✓ Answer generated\n",
      "============================================================\n",
      "\n",
      "Searching for: \"What family does the beaked yucca (Yucca rostrata) belong to?\"\n",
      "✓ Found 5 results\n"
     ]
    },
    {
     "name": "stderr",
     "output_type": "stream",
     "text": [
      "Evaluating:  23%|██████████████████████████████████████████████████████████████████████▋                                                                                                                                                                                                                                                 | 34/150 [05:15<21:25, 11.08s/it]"
     ]
    },
    {
     "name": "stdout",
     "output_type": "stream",
     "text": [
      "Searching for: \"Is Yucca rostrata native to Arizona?\"\n",
      "✓ Found 5 results\n",
      "\n",
      "============================================================\n",
      "RAG Pipeline\n",
      "============================================================\n",
      "Searching for: \"Is Yucca rostrata native to Arizona?\"\n",
      "✓ Found 5 results\n",
      "Generating answer...\n",
      "✓ Answer generated\n",
      "============================================================\n",
      "\n",
      "Searching for: \"Is Yucca rostrata native to Arizona?\"\n",
      "✓ Found 5 results\n"
     ]
    },
    {
     "name": "stderr",
     "output_type": "stream",
     "text": [
      "Evaluating:  23%|████████████████████████████████████████████████████████████████████████▊                                                                                                                                                                                                                                               | 35/150 [05:18<16:38,  8.68s/it]"
     ]
    },
    {
     "name": "stdout",
     "output_type": "stream",
     "text": [
      "Searching for: \"How can I identify beaked yucca among other Yucca species?\"\n",
      "✓ Found 5 results\n",
      "\n",
      "============================================================\n",
      "RAG Pipeline\n",
      "============================================================\n",
      "Searching for: \"How can I identify beaked yucca among other Yucca species?\"\n",
      "✓ Found 5 results\n",
      "Generating answer...\n",
      "✓ Answer generated\n",
      "============================================================\n",
      "\n",
      "Searching for: \"How can I identify beaked yucca among other Yucca species?\"\n",
      "✓ Found 5 results\n"
     ]
    },
    {
     "name": "stderr",
     "output_type": "stream",
     "text": [
      "Evaluating:  24%|██████████████████████████████████████████████████████████████████████████▉                                                                                                                                                                                                                                             | 36/150 [05:26<16:04,  8.46s/it]"
     ]
    },
    {
     "name": "stdout",
     "output_type": "stream",
     "text": [
      "Searching for: \"What family does the Indian mesquite (Prosopis cineraria) belong to?\"\n",
      "✓ Found 5 results\n",
      "\n",
      "============================================================\n",
      "RAG Pipeline\n",
      "============================================================\n",
      "Searching for: \"What family does the Indian mesquite (Prosopis cineraria) belong to?\"\n",
      "✓ Found 5 results\n",
      "Generating answer...\n",
      "✓ Answer generated\n",
      "============================================================\n",
      "\n",
      "Searching for: \"What family does the Indian mesquite (Prosopis cineraria) belong to?\"\n",
      "✓ Found 5 results\n"
     ]
    },
    {
     "name": "stderr",
     "output_type": "stream",
     "text": [
      "Evaluating:  25%|████████████████████████████████████████████████████████████████████████████▉                                                                                                                                                                                                                                           | 37/150 [05:38<17:53,  9.50s/it]"
     ]
    },
    {
     "name": "stdout",
     "output_type": "stream",
     "text": [
      "Searching for: \"In which regions is Prosopis cineraria native?\"\n",
      "✓ Found 5 results\n",
      "\n",
      "============================================================\n",
      "RAG Pipeline\n",
      "============================================================\n",
      "Searching for: \"In which regions is Prosopis cineraria native?\"\n",
      "✓ Found 5 results\n",
      "Generating answer...\n",
      "✓ Answer generated\n",
      "============================================================\n",
      "\n",
      "Searching for: \"In which regions is Prosopis cineraria native?\"\n",
      "✓ Found 5 results\n"
     ]
    },
    {
     "name": "stderr",
     "output_type": "stream",
     "text": [
      "Evaluating:  25%|███████████████████████████████████████████████████████████████████████████████                                                                                                                                                                                                                                         | 38/150 [06:09<29:49, 15.98s/it]"
     ]
    },
    {
     "name": "stdout",
     "output_type": "stream",
     "text": [
      "Searching for: \"How many observations of Indian mesquite have been recorded in Arizona?\"\n",
      "✓ Found 5 results\n",
      "\n",
      "============================================================\n",
      "RAG Pipeline\n",
      "============================================================\n",
      "Searching for: \"How many observations of Indian mesquite have been recorded in Arizona?\"\n",
      "✓ Found 5 results\n",
      "Generating answer...\n",
      "✓ Answer generated\n",
      "============================================================\n",
      "\n",
      "Searching for: \"How many observations of Indian mesquite have been recorded in Arizona?\"\n",
      "✓ Found 5 results\n"
     ]
    },
    {
     "name": "stderr",
     "output_type": "stream",
     "text": [
      "Evaluating:  26%|█████████████████████████████████████████████████████████████████████████████████                                                                                                                                                                                                                                       | 39/150 [06:11<21:55, 11.85s/it]"
     ]
    },
    {
     "name": "stdout",
     "output_type": "stream",
     "text": [
      "Searching for: \"What family does the Desert five-spot (Eremalche rotundifolia) belong to?\"\n",
      "✓ Found 5 results\n",
      "\n",
      "============================================================\n",
      "RAG Pipeline\n",
      "============================================================\n",
      "Searching for: \"What family does the Desert five-spot (Eremalche rotundifolia) belong to?\"\n",
      "✓ Found 5 results\n",
      "Generating answer...\n",
      "✓ Answer generated\n",
      "============================================================\n",
      "\n",
      "Searching for: \"What family does the Desert five-spot (Eremalche rotundifolia) belong to?\"\n",
      "✓ Found 5 results\n"
     ]
    },
    {
     "name": "stderr",
     "output_type": "stream",
     "text": [
      "Evaluating:  27%|███████████████████████████████████████████████████████████████████████████████████▏                                                                                                                                                                                                                                    | 40/150 [06:16<17:55,  9.78s/it]"
     ]
    },
    {
     "name": "stdout",
     "output_type": "stream",
     "text": [
      "Searching for: \"In which deserts is Eremalche rotundifolia native?\"\n",
      "✓ Found 5 results\n",
      "\n",
      "============================================================\n",
      "RAG Pipeline\n",
      "============================================================\n",
      "Searching for: \"In which deserts is Eremalche rotundifolia native?\"\n",
      "✓ Found 5 results\n",
      "Generating answer...\n",
      "✓ Answer generated\n",
      "============================================================\n",
      "\n",
      "Searching for: \"In which deserts is Eremalche rotundifolia native?\"\n",
      "✓ Found 5 results\n"
     ]
    },
    {
     "name": "stderr",
     "output_type": "stream",
     "text": [
      "Evaluating:  27%|█████████████████████████████████████████████████████████████████████████████████████▎                                                                                                                                                                                                                                  | 41/150 [06:18<13:40,  7.53s/it]"
     ]
    },
    {
     "name": "stdout",
     "output_type": "stream",
     "text": [
      "Searching for: \"How many observations of Desert five-spot have been recorded in Arizona?\"\n",
      "✓ Found 5 results\n",
      "\n",
      "============================================================\n",
      "RAG Pipeline\n",
      "============================================================\n",
      "Searching for: \"How many observations of Desert five-spot have been recorded in Arizona?\"\n",
      "✓ Found 5 results\n",
      "Generating answer...\n",
      "✓ Answer generated\n",
      "============================================================\n",
      "\n",
      "Searching for: \"How many observations of Desert five-spot have been recorded in Arizona?\"\n",
      "✓ Found 5 results\n"
     ]
    },
    {
     "name": "stderr",
     "output_type": "stream",
     "text": [
      "Evaluating:  28%|███████████████████████████████████████████████████████████████████████████████████████▎                                                                                                                                                                                                                                | 42/150 [06:24<12:44,  7.08s/it]"
     ]
    },
    {
     "name": "stdout",
     "output_type": "stream",
     "text": [
      "Searching for: \"What is the scientific classification of Tequila Agave?\"\n",
      "✓ Found 5 results\n",
      "\n",
      "============================================================\n",
      "RAG Pipeline\n",
      "============================================================\n",
      "Searching for: \"What is the scientific classification of Tequila Agave?\"\n",
      "✓ Found 5 results\n",
      "Generating answer...\n",
      "✓ Answer generated\n",
      "============================================================\n",
      "\n",
      "Searching for: \"What is the scientific classification of Tequila Agave?\"\n",
      "✓ Found 5 results\n"
     ]
    },
    {
     "name": "stderr",
     "output_type": "stream",
     "text": [
      "Evaluating:  29%|█████████████████████████████████████████████████████████████████████████████████████████▍                                                                                                                                                                                                                              | 43/150 [06:28<10:42,  6.01s/it]"
     ]
    },
    {
     "name": "stdout",
     "output_type": "stream",
     "text": [
      "Searching for: \"How does the sugar content in Agave tequilana affect its use in alcohol production?\"\n",
      "✓ Found 5 results\n",
      "\n",
      "============================================================\n",
      "RAG Pipeline\n",
      "============================================================\n",
      "Searching for: \"How does the sugar content in Agave tequilana affect its use in alcohol production?\"\n",
      "✓ Found 5 results\n",
      "Generating answer...\n",
      "✓ Answer generated\n",
      "============================================================\n",
      "\n",
      "Searching for: \"How does the sugar content in Agave tequilana affect its use in alcohol production?\"\n",
      "✓ Found 5 results\n"
     ]
    },
    {
     "name": "stderr",
     "output_type": "stream",
     "text": [
      "Evaluating:  29%|███████████████████████████████████████████████████████████████████████████████████████████▌                                                                                                                                                                                                                            | 44/150 [07:09<28:59, 16.41s/it]"
     ]
    },
    {
     "name": "stdout",
     "output_type": "stream",
     "text": [
      "Searching for: \"Can Agave tequilana be successfully grown in Arizona's climate?\"\n",
      "✓ Found 5 results\n",
      "\n",
      "============================================================\n",
      "RAG Pipeline\n",
      "============================================================\n",
      "Searching for: \"Can Agave tequilana be successfully grown in Arizona's climate?\"\n",
      "✓ Found 5 results\n",
      "Generating answer...\n",
      "✓ Answer generated\n",
      "============================================================\n",
      "\n",
      "Searching for: \"Can Agave tequilana be successfully grown in Arizona's climate?\"\n",
      "✓ Found 5 results\n"
     ]
    },
    {
     "name": "stderr",
     "output_type": "stream",
     "text": [
      "Evaluating:  30%|█████████████████████████████████████████████████████████████████████████████████████████████▌                                                                                                                                                                                                                          | 45/150 [07:13<22:31, 12.87s/it]"
     ]
    },
    {
     "name": "stdout",
     "output_type": "stream",
     "text": [
      "Searching for: \"What is the common name of the plant species Yucca valida?\"\n",
      "✓ Found 5 results\n",
      "\n",
      "============================================================\n",
      "RAG Pipeline\n",
      "============================================================\n",
      "Searching for: \"What is the common name of the plant species Yucca valida?\"\n",
      "✓ Found 5 results\n",
      "Generating answer...\n",
      "✓ Answer generated\n",
      "============================================================\n",
      "\n",
      "Searching for: \"What is the common name of the plant species Yucca valida?\"\n",
      "✓ Found 5 results\n"
     ]
    },
    {
     "name": "stderr",
     "output_type": "stream",
     "text": [
      "Evaluating:  31%|███████████████████████████████████████████████████████████████████████████████████████████████▋                                                                                                                                                                                                                        | 46/150 [07:17<17:29, 10.09s/it]"
     ]
    },
    {
     "name": "stdout",
     "output_type": "stream",
     "text": [
      "Searching for: \"In which regions of Mexico is the datilillo yucca native?\"\n",
      "✓ Found 5 results\n",
      "\n",
      "============================================================\n",
      "RAG Pipeline\n",
      "============================================================\n",
      "Searching for: \"In which regions of Mexico is the datilillo yucca native?\"\n",
      "✓ Found 5 results\n",
      "Generating answer...\n",
      "✓ Answer generated\n",
      "============================================================\n",
      "\n",
      "Searching for: \"In which regions of Mexico is the datilillo yucca native?\"\n",
      "✓ Found 5 results\n"
     ]
    },
    {
     "name": "stderr",
     "output_type": "stream",
     "text": [
      "Evaluating:  31%|█████████████████████████████████████████████████████████████████████████████████████████████████▊                                                                                                                                                                                                                      | 47/150 [07:19<13:21,  7.78s/it]"
     ]
    },
    {
     "name": "stdout",
     "output_type": "stream",
     "text": [
      "Searching for: \"How many observations of datilillo yucca have been recorded in Arizona?\"\n",
      "✓ Found 5 results\n",
      "\n",
      "============================================================\n",
      "RAG Pipeline\n",
      "============================================================\n",
      "Searching for: \"How many observations of datilillo yucca have been recorded in Arizona?\"\n",
      "✓ Found 5 results\n",
      "Generating answer...\n",
      "✓ Answer generated\n",
      "============================================================\n",
      "\n",
      "Searching for: \"How many observations of datilillo yucca have been recorded in Arizona?\"\n",
      "✓ Found 5 results\n"
     ]
    },
    {
     "name": "stderr",
     "output_type": "stream",
     "text": [
      "Evaluating:  32%|███████████████████████████████████████████████████████████████████████████████████████████████████▊                                                                                                                                                                                                                    | 48/150 [07:21<10:16,  6.05s/it]"
     ]
    },
    {
     "name": "stdout",
     "output_type": "stream",
     "text": [
      "Searching for: \"What family does Needle Grama (Bouteloua aristidoides) belong to?\"\n",
      "✓ Found 5 results\n",
      "\n",
      "============================================================\n",
      "RAG Pipeline\n",
      "============================================================\n",
      "Searching for: \"What family does Needle Grama (Bouteloua aristidoides) belong to?\"\n",
      "✓ Found 5 results\n",
      "Generating answer...\n",
      "✓ Answer generated\n",
      "============================================================\n",
      "\n",
      "Searching for: \"What family does Needle Grama (Bouteloua aristidoides) belong to?\"\n",
      "✓ Found 5 results\n"
     ]
    },
    {
     "name": "stderr",
     "output_type": "stream",
     "text": [
      "Evaluating:  33%|█████████████████████████████████████████████████████████████████████████████████████████████████████▉                                                                                                                                                                                                                  | 49/150 [07:27<09:49,  5.84s/it]"
     ]
    },
    {
     "name": "stdout",
     "output_type": "stream",
     "text": [
      "Searching for: \"In which regions of North America is Needle Grama typically found?\"\n",
      "✓ Found 5 results\n",
      "\n",
      "============================================================\n",
      "RAG Pipeline\n",
      "============================================================\n",
      "Searching for: \"In which regions of North America is Needle Grama typically found?\"\n",
      "✓ Found 5 results\n",
      "Generating answer...\n",
      "✓ Answer generated\n",
      "============================================================\n",
      "\n",
      "Searching for: \"In which regions of North America is Needle Grama typically found?\"\n",
      "✓ Found 5 results\n"
     ]
    },
    {
     "name": "stderr",
     "output_type": "stream",
     "text": [
      "Evaluating:  33%|████████████████████████████████████████████████████████████████████████████████████████████████████████                                                                                                                                                                                                                | 50/150 [07:40<13:44,  8.25s/it]"
     ]
    },
    {
     "name": "stdout",
     "output_type": "stream",
     "text": [
      "Searching for: \"How many observations of Needle Grama have been recorded in Arizona?\"\n",
      "✓ Found 5 results\n",
      "\n",
      "============================================================\n",
      "RAG Pipeline\n",
      "============================================================\n",
      "Searching for: \"How many observations of Needle Grama have been recorded in Arizona?\"\n",
      "✓ Found 5 results\n",
      "Generating answer...\n",
      "✓ Answer generated\n",
      "============================================================\n",
      "\n",
      "Searching for: \"How many observations of Needle Grama have been recorded in Arizona?\"\n",
      "✓ Found 5 results\n"
     ]
    },
    {
     "name": "stderr",
     "output_type": "stream",
     "text": [
      "Evaluating:  34%|██████████████████████████████████████████████████████████████████████████████████████████████████████████                                                                                                                                                                                                              | 51/150 [08:11<24:46, 15.02s/it]"
     ]
    },
    {
     "name": "stdout",
     "output_type": "stream",
     "text": [
      "Searching for: \"What is the common name of Bouteloua barbata?\"\n",
      "✓ Found 5 results\n",
      "\n",
      "============================================================\n",
      "RAG Pipeline\n",
      "============================================================\n",
      "Searching for: \"What is the common name of Bouteloua barbata?\"\n",
      "✓ Found 5 results\n",
      "Generating answer...\n",
      "✓ Answer generated\n",
      "============================================================\n",
      "\n",
      "Searching for: \"What is the common name of Bouteloua barbata?\"\n",
      "✓ Found 5 results\n"
     ]
    },
    {
     "name": "stderr",
     "output_type": "stream",
     "text": [
      "Evaluating:  35%|████████████████████████████████████████████████████████████████████████████████████████████████████████████▏                                                                                                                                                                                                           | 52/150 [08:15<18:53, 11.57s/it]"
     ]
    },
    {
     "name": "stdout",
     "output_type": "stream",
     "text": [
      "Searching for: \"Where is six-weeks grama native to?\"\n",
      "✓ Found 5 results\n",
      "\n",
      "============================================================\n",
      "RAG Pipeline\n",
      "============================================================\n",
      "Searching for: \"Where is six-weeks grama native to?\"\n",
      "✓ Found 5 results\n",
      "Generating answer...\n",
      "✓ Answer generated\n",
      "============================================================\n",
      "\n",
      "Searching for: \"Where is six-weeks grama native to?\"\n",
      "✓ Found 5 results\n"
     ]
    },
    {
     "name": "stderr",
     "output_type": "stream",
     "text": [
      "Evaluating:  35%|██████████████████████████████████████████████████████████████████████████████████████████████████████████████▏                                                                                                                                                                                                         | 53/150 [08:17<14:15,  8.82s/it]"
     ]
    },
    {
     "name": "stdout",
     "output_type": "stream",
     "text": [
      "Searching for: \"How many observations of six-weeks grama have been recorded in Arizona?\"\n",
      "✓ Found 5 results\n",
      "\n",
      "============================================================\n",
      "RAG Pipeline\n",
      "============================================================\n",
      "Searching for: \"How many observations of six-weeks grama have been recorded in Arizona?\"\n",
      "✓ Found 5 results\n",
      "Generating answer...\n",
      "✓ Answer generated\n",
      "============================================================\n",
      "\n",
      "Searching for: \"How many observations of six-weeks grama have been recorded in Arizona?\"\n",
      "✓ Found 5 results\n"
     ]
    },
    {
     "name": "stderr",
     "output_type": "stream",
     "text": [
      "Evaluating:  36%|████████████████████████████████████████████████████████████████████████████████████████████████████████████████▎                                                                                                                                                                                                       | 54/150 [08:19<10:58,  6.86s/it]"
     ]
    },
    {
     "name": "stdout",
     "output_type": "stream",
     "text": [
      "Searching for: \"What family does Sideoats Grama belong to?\"\n",
      "✓ Found 5 results\n",
      "\n",
      "============================================================\n",
      "RAG Pipeline\n",
      "============================================================\n",
      "Searching for: \"What family does Sideoats Grama belong to?\"\n",
      "✓ Found 5 results\n",
      "Generating answer...\n",
      "✓ Answer generated\n",
      "============================================================\n",
      "\n",
      "Searching for: \"What family does Sideoats Grama belong to?\"\n",
      "✓ Found 5 results\n"
     ]
    },
    {
     "name": "stderr",
     "output_type": "stream",
     "text": [
      "Evaluating:  37%|██████████████████████████████████████████████████████████████████████████████████████████████████████████████████▍                                                                                                                                                                                                     | 55/150 [08:22<08:39,  5.47s/it]"
     ]
    },
    {
     "name": "stdout",
     "output_type": "stream",
     "text": [
      "Searching for: \"Is Sideoats Grama suitable for planting in Arizona gardens?\"\n",
      "✓ Found 5 results\n",
      "\n",
      "============================================================\n",
      "RAG Pipeline\n",
      "============================================================\n",
      "Searching for: \"Is Sideoats Grama suitable for planting in Arizona gardens?\"\n",
      "✓ Found 5 results\n",
      "Generating answer...\n",
      "✓ Answer generated\n",
      "============================================================\n",
      "\n",
      "Searching for: \"Is Sideoats Grama suitable for planting in Arizona gardens?\"\n",
      "✓ Found 5 results\n"
     ]
    },
    {
     "name": "stderr",
     "output_type": "stream",
     "text": [
      "Evaluating:  37%|████████████████████████████████████████████████████████████████████████████████████████████████████████████████████▍                                                                                                                                                                                                   | 56/150 [08:40<14:31,  9.27s/it]"
     ]
    },
    {
     "name": "stdout",
     "output_type": "stream",
     "text": [
      "Searching for: \"What is the native range of Bouteloua curtipendula?\"\n",
      "✓ Found 5 results\n",
      "\n",
      "============================================================\n",
      "RAG Pipeline\n",
      "============================================================\n",
      "Searching for: \"What is the native range of Bouteloua curtipendula?\"\n",
      "✓ Found 5 results\n",
      "Generating answer...\n",
      "✓ Answer generated\n",
      "============================================================\n",
      "\n",
      "Searching for: \"What is the native range of Bouteloua curtipendula?\"\n",
      "✓ Found 5 results\n"
     ]
    },
    {
     "name": "stderr",
     "output_type": "stream",
     "text": [
      "Evaluating:  38%|██████████████████████████████████████████████████████████████████████████████████████████████████████████████████████▌                                                                                                                                                                                                 | 57/150 [08:42<11:06,  7.17s/it]"
     ]
    },
    {
     "name": "stdout",
     "output_type": "stream",
     "text": [
      "Searching for: \"What is the main means of reproduction for Black Grama (Bouteloua eriopoda)?\"\n",
      "✓ Found 5 results\n",
      "\n",
      "============================================================\n",
      "RAG Pipeline\n",
      "============================================================\n",
      "Searching for: \"What is the main means of reproduction for Black Grama (Bouteloua eriopoda)?\"\n",
      "✓ Found 5 results\n",
      "Generating answer...\n",
      "✓ Answer generated\n",
      "============================================================\n",
      "\n",
      "Searching for: \"What is the main means of reproduction for Black Grama (Bouteloua eriopoda)?\"\n",
      "✓ Found 5 results\n"
     ]
    },
    {
     "name": "stderr",
     "output_type": "stream",
     "text": [
      "Evaluating:  39%|████████████████████████████████████████████████████████████████████████████████████████████████████████████████████████▋                                                                                                                                                                                               | 58/150 [09:13<21:54, 14.29s/it]"
     ]
    },
    {
     "name": "stdout",
     "output_type": "stream",
     "text": [
      "Searching for: \"How does Black Grama's tolerance to overgrazing compare to other grasses?\"\n",
      "✓ Found 5 results\n",
      "\n",
      "============================================================\n",
      "RAG Pipeline\n",
      "============================================================\n",
      "Searching for: \"How does Black Grama's tolerance to overgrazing compare to other grasses?\"\n",
      "✓ Found 5 results\n",
      "Generating answer...\n",
      "✓ Answer generated\n",
      "============================================================\n",
      "\n",
      "Searching for: \"How does Black Grama's tolerance to overgrazing compare to other grasses?\"\n",
      "✓ Found 5 results\n"
     ]
    },
    {
     "name": "stderr",
     "output_type": "stream",
     "text": [
      "Evaluating:  39%|██████████████████████████████████████████████████████████████████████████████████████████████████████████████████████████▋                                                                                                                                                                                             | 59/150 [09:16<16:35, 10.94s/it]"
     ]
    },
    {
     "name": "stdout",
     "output_type": "stream",
     "text": [
      "Searching for: \"Is Black Grama a suitable choice for livestock forage in a garden setting?\"\n",
      "✓ Found 5 results\n",
      "\n",
      "============================================================\n",
      "RAG Pipeline\n",
      "============================================================\n",
      "Searching for: \"Is Black Grama a suitable choice for livestock forage in a garden setting?\"\n",
      "✓ Found 5 results\n",
      "Generating answer...\n",
      "✓ Answer generated\n",
      "============================================================\n",
      "\n",
      "Searching for: \"Is Black Grama a suitable choice for livestock forage in a garden setting?\"\n",
      "✓ Found 5 results\n"
     ]
    },
    {
     "name": "stderr",
     "output_type": "stream",
     "text": [
      "Evaluating:  40%|████████████████████████████████████████████████████████████████████████████████████████████████████████████████████████████▊                                                                                                                                                                                           | 60/150 [09:21<13:27,  8.97s/it]"
     ]
    },
    {
     "name": "stdout",
     "output_type": "stream",
     "text": [
      "Searching for: \"What type of environment does Red Grama (Bouteloua trifida) thrive in?\"\n",
      "✓ Found 5 results\n",
      "\n",
      "============================================================\n",
      "RAG Pipeline\n",
      "============================================================\n",
      "Searching for: \"What type of environment does Red Grama (Bouteloua trifida) thrive in?\"\n",
      "✓ Found 5 results\n",
      "Generating answer...\n",
      "✓ Answer generated\n",
      "============================================================\n",
      "\n",
      "Searching for: \"What type of environment does Red Grama (Bouteloua trifida) thrive in?\"\n",
      "✓ Found 5 results\n"
     ]
    },
    {
     "name": "stderr",
     "output_type": "stream",
     "text": [
      "Evaluating:  41%|██████████████████████████████████████████████████████████████████████████████████████████████████████████████████████████████▉                                                                                                                                                                                         | 61/150 [09:23<10:35,  7.14s/it]"
     ]
    },
    {
     "name": "stdout",
     "output_type": "stream",
     "text": [
      "Searching for: \"Is Red Grama suitable for planting in Arizona's desert scrub areas?\"\n",
      "✓ Found 5 results\n",
      "\n",
      "============================================================\n",
      "RAG Pipeline\n",
      "============================================================\n",
      "Searching for: \"Is Red Grama suitable for planting in Arizona's desert scrub areas?\"\n",
      "✓ Found 5 results\n",
      "Generating answer...\n",
      "✓ Answer generated\n",
      "============================================================\n",
      "\n",
      "Searching for: \"Is Red Grama suitable for planting in Arizona's desert scrub areas?\"\n",
      "✓ Found 5 results\n"
     ]
    },
    {
     "name": "stderr",
     "output_type": "stream",
     "text": [
      "Evaluating:  41%|████████████████████████████████████████████████████████████████████████████████████████████████████████████████████████████████▉                                                                                                                                                                                       | 62/150 [09:26<08:30,  5.81s/it]"
     ]
    },
    {
     "name": "stdout",
     "output_type": "stream",
     "text": [
      "Searching for: \"How many observations of Red Grama have been recorded in Arizona?\"\n",
      "✓ Found 5 results\n",
      "\n",
      "============================================================\n",
      "RAG Pipeline\n",
      "============================================================\n",
      "Searching for: \"How many observations of Red Grama have been recorded in Arizona?\"\n",
      "✓ Found 5 results\n",
      "Generating answer...\n",
      "✓ Answer generated\n",
      "============================================================\n",
      "\n",
      "Searching for: \"How many observations of Red Grama have been recorded in Arizona?\"\n",
      "✓ Found 5 results\n"
     ]
    },
    {
     "name": "stderr",
     "output_type": "stream",
     "text": [
      "Evaluating:  42%|███████████████████████████████████████████████████████████████████████████████████████████████████████████████████████████████████                                                                                                                                                                                     | 63/150 [09:42<12:40,  8.74s/it]"
     ]
    },
    {
     "name": "stdout",
     "output_type": "stream",
     "text": [
      "Searching for: \"What is the conservation status of Adam's tree (Fouquieria diguetii)?\"\n",
      "✓ Found 5 results\n",
      "\n",
      "============================================================\n",
      "RAG Pipeline\n",
      "============================================================\n",
      "Searching for: \"What is the conservation status of Adam's tree (Fouquieria diguetii)?\"\n",
      "✓ Found 5 results\n",
      "Generating answer...\n",
      "✓ Answer generated\n",
      "============================================================\n",
      "\n",
      "Searching for: \"What is the conservation status of Adam's tree (Fouquieria diguetii)?\"\n",
      "✓ Found 5 results\n"
     ]
    },
    {
     "name": "stderr",
     "output_type": "stream",
     "text": [
      "Evaluating:  43%|█████████████████████████████████████████████████████████████████████████████████████████████████████████████████████████████████████                                                                                                                                                                                   | 64/150 [10:11<21:11, 14.78s/it]"
     ]
    },
    {
     "name": "stdout",
     "output_type": "stream",
     "text": [
      "Searching for: \"How can I identify Adam's tree by its flowers?\"\n",
      "✓ Found 5 results\n",
      "\n",
      "============================================================\n",
      "RAG Pipeline\n",
      "============================================================\n",
      "Searching for: \"How can I identify Adam's tree by its flowers?\"\n",
      "✓ Found 5 results\n",
      "Generating answer...\n",
      "✓ Answer generated\n",
      "============================================================\n",
      "\n",
      "Searching for: \"How can I identify Adam's tree by its flowers?\"\n",
      "✓ Found 5 results\n"
     ]
    },
    {
     "name": "stderr",
     "output_type": "stream",
     "text": [
      "Evaluating:  43%|███████████████████████████████████████████████████████████████████████████████████████████████████████████████████████████████████████▏                                                                                                                                                                                | 65/150 [10:17<17:15, 12.18s/it]"
     ]
    },
    {
     "name": "stdout",
     "output_type": "stream",
     "text": [
      "Searching for: \"Is Adam's tree suitable for planting in Arizona gardens, considering its native habitat?\"\n",
      "✓ Found 5 results\n",
      "\n",
      "============================================================\n",
      "RAG Pipeline\n",
      "============================================================\n",
      "Searching for: \"Is Adam's tree suitable for planting in Arizona gardens, considering its native habitat?\"\n",
      "✓ Found 5 results\n",
      "Generating answer...\n",
      "✓ Answer generated\n",
      "============================================================\n",
      "\n",
      "Searching for: \"Is Adam's tree suitable for planting in Arizona gardens, considering its native habitat?\"\n",
      "✓ Found 5 results\n"
     ]
    },
    {
     "name": "stderr",
     "output_type": "stream",
     "text": [
      "Evaluating:  44%|█████████████████████████████████████████████████████████████████████████████████████████████████████████████████████████████████████████▎                                                                                                                                                                              | 66/150 [10:22<14:19, 10.23s/it]"
     ]
    },
    {
     "name": "stdout",
     "output_type": "stream",
     "text": [
      "Searching for: \"What family does the Horse Crippler Cactus belong to?\"\n",
      "✓ Found 5 results\n",
      "\n",
      "============================================================\n",
      "RAG Pipeline\n",
      "============================================================\n",
      "Searching for: \"What family does the Horse Crippler Cactus belong to?\"\n",
      "✓ Found 5 results\n",
      "Generating answer...\n",
      "✓ Answer generated\n",
      "============================================================\n",
      "\n",
      "Searching for: \"What family does the Horse Crippler Cactus belong to?\"\n",
      "✓ Found 5 results\n"
     ]
    },
    {
     "name": "stderr",
     "output_type": "stream",
     "text": [
      "Evaluating:  45%|███████████████████████████████████████████████████████████████████████████████████████████████████████████████████████████████████████████▎                                                                                                                                                                            | 67/150 [10:26<11:31,  8.34s/it]"
     ]
    },
    {
     "name": "stdout",
     "output_type": "stream",
     "text": [
      "Searching for: \"Is the Horse Crippler Cactus endemic to any specific regions?\"\n",
      "✓ Found 5 results\n",
      "\n",
      "============================================================\n",
      "RAG Pipeline\n",
      "============================================================\n",
      "Searching for: \"Is the Horse Crippler Cactus endemic to any specific regions?\"\n",
      "✓ Found 5 results\n",
      "Generating answer...\n",
      "✓ Answer generated\n",
      "============================================================\n",
      "\n",
      "Searching for: \"Is the Horse Crippler Cactus endemic to any specific regions?\"\n",
      "✓ Found 5 results\n"
     ]
    },
    {
     "name": "stderr",
     "output_type": "stream",
     "text": [
      "Evaluating:  45%|█████████████████████████████████████████████████████████████████████████████████████████████████████████████████████████████████████████████▍                                                                                                                                                                          | 68/150 [10:29<09:07,  6.68s/it]"
     ]
    },
    {
     "name": "stdout",
     "output_type": "stream",
     "text": [
      "Searching for: \"How many observations of the Horse Crippler Cactus have been recorded in Arizona?\"\n",
      "✓ Found 5 results\n",
      "\n",
      "============================================================\n",
      "RAG Pipeline\n",
      "============================================================\n",
      "Searching for: \"How many observations of the Horse Crippler Cactus have been recorded in Arizona?\"\n",
      "✓ Found 5 results\n",
      "Generating answer...\n",
      "✓ Answer generated\n",
      "============================================================\n",
      "\n",
      "Searching for: \"How many observations of the Horse Crippler Cactus have been recorded in Arizona?\"\n",
      "✓ Found 5 results\n"
     ]
    },
    {
     "name": "stderr",
     "output_type": "stream",
     "text": [
      "Evaluating:  46%|███████████████████████████████████████████████████████████████████████████████████████████████████████████████████████████████████████████████▌                                                                                                                                                                        | 69/150 [10:43<11:48,  8.74s/it]"
     ]
    },
    {
     "name": "stdout",
     "output_type": "stream",
     "text": [
      "Searching for: \"What family does the Cottontop Cactus belong to?\"\n",
      "✓ Found 5 results\n",
      "\n",
      "============================================================\n",
      "RAG Pipeline\n",
      "============================================================\n",
      "Searching for: \"What family does the Cottontop Cactus belong to?\"\n",
      "✓ Found 5 results\n",
      "Generating answer...\n",
      "✓ Answer generated\n",
      "============================================================\n",
      "\n",
      "Searching for: \"What family does the Cottontop Cactus belong to?\"\n",
      "✓ Found 5 results\n"
     ]
    },
    {
     "name": "stderr",
     "output_type": "stream",
     "text": [
      "Evaluating:  47%|█████████████████████████████████████████████████████████████████████████████████████████████████████████████████████████████████████████████████▌                                                                                                                                                                      | 70/150 [11:12<19:43, 14.80s/it]"
     ]
    },
    {
     "name": "stdout",
     "output_type": "stream",
     "text": [
      "Searching for: \"In which desert regions can the Homalocephala polycephala be found?\"\n",
      "✓ Found 5 results\n",
      "\n",
      "============================================================\n",
      "RAG Pipeline\n",
      "============================================================\n",
      "Searching for: \"In which desert regions can the Homalocephala polycephala be found?\"\n",
      "✓ Found 5 results\n",
      "Generating answer...\n",
      "✓ Answer generated\n",
      "============================================================\n",
      "\n",
      "Searching for: \"In which desert regions can the Homalocephala polycephala be found?\"\n",
      "✓ Found 5 results\n"
     ]
    },
    {
     "name": "stderr",
     "output_type": "stream",
     "text": [
      "Evaluating:  47%|███████████████████████████████████████████████████████████████████████████████████████████████████████████████████████████████████████████████████▋                                                                                                                                                                    | 71/150 [11:18<16:21, 12.42s/it]"
     ]
    },
    {
     "name": "stdout",
     "output_type": "stream",
     "text": [
      "Searching for: \"How many observations of the Cottontop Cactus have been recorded in Arizona?\"\n",
      "✓ Found 5 results\n",
      "\n",
      "============================================================\n",
      "RAG Pipeline\n",
      "============================================================\n",
      "Searching for: \"How many observations of the Cottontop Cactus have been recorded in Arizona?\"\n",
      "✓ Found 5 results\n",
      "Generating answer...\n",
      "✓ Answer generated\n",
      "============================================================\n",
      "\n",
      "Searching for: \"How many observations of the Cottontop Cactus have been recorded in Arizona?\"\n",
      "✓ Found 5 results\n"
     ]
    },
    {
     "name": "stderr",
     "output_type": "stream",
     "text": [
      "Evaluating:  48%|█████████████████████████████████████████████████████████████████████████████████████████████████████████████████████████████████████████████████████▊                                                                                                                                                                  | 72/150 [11:21<12:15,  9.43s/it]"
     ]
    },
    {
     "name": "stdout",
     "output_type": "stream",
     "text": [
      "Searching for: \"What is the common name for Acacia melanoxylon?\"\n",
      "✓ Found 5 results\n",
      "\n",
      "============================================================\n",
      "RAG Pipeline\n",
      "============================================================\n",
      "Searching for: \"What is the common name for Acacia melanoxylon?\"\n",
      "✓ Found 5 results\n",
      "Generating answer...\n",
      "✓ Answer generated\n",
      "============================================================\n",
      "\n",
      "Searching for: \"What is the common name for Acacia melanoxylon?\"\n",
      "✓ Found 5 results\n"
     ]
    },
    {
     "name": "stderr",
     "output_type": "stream",
     "text": [
      "Evaluating:  49%|███████████████████████████████████████████████████████████████████████████████████████████████████████████████████████████████████████████████████████▊                                                                                                                                                                | 73/150 [11:25<09:59,  7.79s/it]"
     ]
    },
    {
     "name": "stdout",
     "output_type": "stream",
     "text": [
      "Searching for: \"How many observations of blackwood (Acacia melanoxylon) have been recorded in Arizona?\"\n",
      "✓ Found 5 results\n",
      "\n",
      "============================================================\n",
      "RAG Pipeline\n",
      "============================================================\n",
      "Searching for: \"How many observations of blackwood (Acacia melanoxylon) have been recorded in Arizona?\"\n",
      "✓ Found 5 results\n",
      "Generating answer...\n",
      "✓ Answer generated\n",
      "============================================================\n",
      "\n",
      "Searching for: \"How many observations of blackwood (Acacia melanoxylon) have been recorded in Arizona?\"\n",
      "✓ Found 5 results\n"
     ]
    },
    {
     "name": "stderr",
     "output_type": "stream",
     "text": [
      "Evaluating:  49%|█████████████████████████████████████████████████████████████████████████████████████████████████████████████████████████████████████████████████████████▉                                                                                                                                                              | 74/150 [11:28<08:04,  6.37s/it]"
     ]
    },
    {
     "name": "stdout",
     "output_type": "stream",
     "text": [
      "Searching for: \"What family does the blackwood (Acacia melanoxylon) belong to?\"\n",
      "✓ Found 5 results\n",
      "\n",
      "============================================================\n",
      "RAG Pipeline\n",
      "============================================================\n",
      "Searching for: \"What family does the blackwood (Acacia melanoxylon) belong to?\"\n",
      "✓ Found 5 results\n",
      "Generating answer...\n",
      "✓ Answer generated\n",
      "============================================================\n",
      "\n",
      "Searching for: \"What family does the blackwood (Acacia melanoxylon) belong to?\"\n",
      "✓ Found 5 results\n"
     ]
    },
    {
     "name": "stderr",
     "output_type": "stream",
     "text": [
      "Evaluating:  50%|████████████████████████████████████████████████████████████████████████████████████████████████████████████████████████████████████████████████████████████                                                                                                                                                            | 75/150 [11:43<11:19,  9.06s/it]"
     ]
    },
    {
     "name": "stdout",
     "output_type": "stream",
     "text": [
      "Searching for: \"What are the common names of Acacia dealbata?\"\n",
      "✓ Found 5 results\n",
      "\n",
      "============================================================\n",
      "RAG Pipeline\n",
      "============================================================\n",
      "Searching for: \"What are the common names of Acacia dealbata?\"\n",
      "✓ Found 5 results\n",
      "Generating answer...\n",
      "✓ Answer generated\n",
      "============================================================\n",
      "\n",
      "Searching for: \"What are the common names of Acacia dealbata?\"\n",
      "✓ Found 5 results\n"
     ]
    },
    {
     "name": "stderr",
     "output_type": "stream",
     "text": [
      "Evaluating:  51%|██████████████████████████████████████████████████████████████████████████████████████████████████████████████████████████████████████████████████████████████                                                                                                                                                          | 76/150 [11:46<08:39,  7.02s/it]"
     ]
    },
    {
     "name": "stdout",
     "output_type": "stream",
     "text": [
      "Searching for: \"Is silver wattle suitable for Mediterranean climates?\"\n",
      "✓ Found 5 results\n",
      "\n",
      "============================================================\n",
      "RAG Pipeline\n",
      "============================================================\n",
      "Searching for: \"Is silver wattle suitable for Mediterranean climates?\"\n",
      "✓ Found 5 results\n",
      "Generating answer...\n",
      "✓ Answer generated\n",
      "============================================================\n",
      "\n",
      "Searching for: \"Is silver wattle suitable for Mediterranean climates?\"\n",
      "✓ Found 5 results\n"
     ]
    },
    {
     "name": "stderr",
     "output_type": "stream",
     "text": [
      "Evaluating:  51%|████████████████████████████████████████████████████████████████████████████████████████████████████████████████████████████████████████████████████████████████▏                                                                                                                                                       | 77/150 [12:16<17:04, 14.03s/it]"
     ]
    },
    {
     "name": "stdout",
     "output_type": "stream",
     "text": [
      "Searching for: \"How many observations of silver wattle have been recorded in Arizona?\"\n",
      "✓ Found 5 results\n",
      "\n",
      "============================================================\n",
      "RAG Pipeline\n",
      "============================================================\n",
      "Searching for: \"How many observations of silver wattle have been recorded in Arizona?\"\n",
      "✓ Found 5 results\n",
      "Generating answer...\n",
      "✓ Answer generated\n",
      "============================================================\n",
      "\n",
      "Searching for: \"How many observations of silver wattle have been recorded in Arizona?\"\n",
      "✓ Found 5 results\n"
     ]
    },
    {
     "name": "stderr",
     "output_type": "stream",
     "text": [
      "Evaluating:  52%|██████████████████████████████████████████████████████████████████████████████████████████████████████████████████████████████████████████████████████████████████▏                                                                                                                                                     | 78/150 [12:21<13:29, 11.25s/it]"
     ]
    },
    {
     "name": "stdout",
     "output_type": "stream",
     "text": [
      "Searching for: \"What family does the screwbean plant belong to?\"\n",
      "✓ Found 5 results\n",
      "\n",
      "============================================================\n",
      "RAG Pipeline\n",
      "============================================================\n",
      "Searching for: \"What family does the screwbean plant belong to?\"\n",
      "✓ Found 5 results\n",
      "Generating answer...\n",
      "✓ Answer generated\n",
      "============================================================\n",
      "\n",
      "Searching for: \"What family does the screwbean plant belong to?\"\n",
      "✓ Found 5 results\n"
     ]
    },
    {
     "name": "stderr",
     "output_type": "stream",
     "text": [
      "Evaluating:  53%|████████████████████████████████████████████████████████████████████████████████████████████████████████████████████████████████████████████████████████████████████▎                                                                                                                                                   | 79/150 [12:24<10:35,  8.95s/it]"
     ]
    },
    {
     "name": "stdout",
     "output_type": "stream",
     "text": [
      "Searching for: \"Is screwbean mesquite native to Arizona?\"\n",
      "✓ Found 5 results\n",
      "\n",
      "============================================================\n",
      "RAG Pipeline\n",
      "============================================================\n",
      "Searching for: \"Is screwbean mesquite native to Arizona?\"\n",
      "✓ Found 5 results\n",
      "Generating answer...\n",
      "✓ Answer generated\n",
      "============================================================\n",
      "\n",
      "Searching for: \"Is screwbean mesquite native to Arizona?\"\n",
      "✓ Found 5 results\n"
     ]
    },
    {
     "name": "stderr",
     "output_type": "stream",
     "text": [
      "Evaluating:  53%|██████████████████████████████████████████████████████████████████████████████████████████████████████████████████████████████████████████████████████████████████████▍                                                                                                                                                 | 80/150 [12:27<08:11,  7.03s/it]"
     ]
    },
    {
     "name": "stdout",
     "output_type": "stream",
     "text": [
      "Searching for: \"How can I identify a screwbean (Strombocarpa pubescens) in my garden?\"\n",
      "✓ Found 5 results\n",
      "\n",
      "============================================================\n",
      "RAG Pipeline\n",
      "============================================================\n",
      "Searching for: \"How can I identify a screwbean (Strombocarpa pubescens) in my garden?\"\n",
      "✓ Found 5 results\n",
      "Generating answer...\n",
      "✓ Answer generated\n",
      "============================================================\n",
      "\n",
      "Searching for: \"How can I identify a screwbean (Strombocarpa pubescens) in my garden?\"\n",
      "✓ Found 5 results\n"
     ]
    },
    {
     "name": "stderr",
     "output_type": "stream",
     "text": [
      "Evaluating:  54%|████████████████████████████████████████████████████████████████████████████████████████████████████████████████████████████████████████████████████████████████████████▍                                                                                                                                               | 81/150 [12:45<11:55, 10.37s/it]"
     ]
    },
    {
     "name": "stdout",
     "output_type": "stream",
     "text": [
      "Searching for: \"What are the common names for Cylindropuntia fosbergii?\"\n",
      "✓ Found 5 results\n",
      "\n",
      "============================================================\n",
      "RAG Pipeline\n",
      "============================================================\n",
      "Searching for: \"What are the common names for Cylindropuntia fosbergii?\"\n",
      "✓ Found 5 results\n",
      "Generating answer...\n",
      "✓ Answer generated\n",
      "============================================================\n",
      "\n",
      "Searching for: \"What are the common names for Cylindropuntia fosbergii?\"\n",
      "✓ Found 5 results\n"
     ]
    },
    {
     "name": "stderr",
     "output_type": "stream",
     "text": [
      "Evaluating:  55%|██████████████████████████████████████████████████████████████████████████████████████████████████████████████████████████████████████████████████████████████████████████▌                                                                                                                                             | 82/150 [12:47<09:05,  8.02s/it]"
     ]
    },
    {
     "name": "stdout",
     "output_type": "stream",
     "text": [
      "Searching for: \"Is the Mason Valley cholla suitable for planting in areas outside of its native range in south-eastern California?\"\n",
      "✓ Found 5 results\n",
      "\n",
      "============================================================\n",
      "RAG Pipeline\n",
      "============================================================\n",
      "Searching for: \"Is the Mason Valley cholla suitable for planting in areas outside of its native range in south-eastern California?\"\n",
      "✓ Found 5 results\n",
      "Generating answer...\n",
      "✓ Answer generated\n",
      "============================================================\n",
      "\n",
      "Searching for: \"Is the Mason Valley cholla suitable for planting in areas outside of its native range in south-eastern California?\"\n",
      "✓ Found 5 results\n"
     ]
    },
    {
     "name": "stderr",
     "output_type": "stream",
     "text": [
      "Evaluating:  55%|████████████████████████████████████████████████████████████████████████████████████████████████████████████████████████████████████████████████████████████████████████████▋                                                                                                                                           | 83/150 [13:20<17:11, 15.39s/it]"
     ]
    },
    {
     "name": "stdout",
     "output_type": "stream",
     "text": [
      "Searching for: \"How many observations of Mason Valley cholla have been recorded in Arizona?\"\n",
      "✓ Found 5 results\n",
      "\n",
      "============================================================\n",
      "RAG Pipeline\n",
      "============================================================\n",
      "Searching for: \"How many observations of Mason Valley cholla have been recorded in Arizona?\"\n",
      "✓ Found 5 results\n",
      "Generating answer...\n",
      "✓ Answer generated\n",
      "============================================================\n",
      "\n",
      "Searching for: \"How many observations of Mason Valley cholla have been recorded in Arizona?\"\n",
      "✓ Found 5 results\n"
     ]
    },
    {
     "name": "stderr",
     "output_type": "stream",
     "text": [
      "Evaluating:  56%|██████████████████████████████████████████████████████████████████████████████████████████████████████████████████████████████████████████████████████████████████████████████▋                                                                                                                                         | 84/150 [13:23<12:45, 11.59s/it]"
     ]
    },
    {
     "name": "stdout",
     "output_type": "stream",
     "text": [
      "Searching for: \"What type of soil does the Argentine screwbean (Strombocarpa strombulifera) prefer for optimal growth?\"\n",
      "✓ Found 5 results\n",
      "\n",
      "============================================================\n",
      "RAG Pipeline\n",
      "============================================================\n",
      "Searching for: \"What type of soil does the Argentine screwbean (Strombocarpa strombulifera) prefer for optimal growth?\"\n",
      "✓ Found 5 results\n",
      "Generating answer...\n",
      "✓ Answer generated\n",
      "============================================================\n",
      "\n",
      "Searching for: \"What type of soil does the Argentine screwbean (Strombocarpa strombulifera) prefer for optimal growth?\"\n",
      "✓ Found 5 results\n"
     ]
    },
    {
     "name": "stderr",
     "output_type": "stream",
     "text": [
      "Evaluating:  57%|████████████████████████████████████████████████████████████████████████████████████████████████████████████████████████████████████████████████████████████████████████████████▊                                                                                                                                       | 85/150 [13:26<09:58,  9.21s/it]"
     ]
    },
    {
     "name": "stdout",
     "output_type": "stream",
     "text": [
      "Searching for: \"Is the Argentine screwbean considered invasive in Arizona, and how can I manage its growth in a garden setting?\"\n",
      "✓ Found 5 results\n",
      "\n",
      "============================================================\n",
      "RAG Pipeline\n",
      "============================================================\n",
      "Searching for: \"Is the Argentine screwbean considered invasive in Arizona, and how can I manage its growth in a garden setting?\"\n",
      "✓ Found 5 results\n",
      "Generating answer...\n",
      "✓ Answer generated\n",
      "============================================================\n",
      "\n",
      "Searching for: \"Is the Argentine screwbean considered invasive in Arizona, and how can I manage its growth in a garden setting?\"\n",
      "✓ Found 5 results\n"
     ]
    },
    {
     "name": "stderr",
     "output_type": "stream",
     "text": [
      "Evaluating:  57%|██████████████████████████████████████████████████████████████████████████████████████████████████████████████████████████████████████████████████████████████████████████████████▉                                                                                                                                     | 86/150 [13:30<08:08,  7.64s/it]"
     ]
    },
    {
     "name": "stdout",
     "output_type": "stream",
     "text": [
      "Searching for: \"What are the common names for Strombocarpa strombulifera, and how can I identify it among other mesquite shrubs?\"\n",
      "✓ Found 5 results\n",
      "\n",
      "============================================================\n",
      "RAG Pipeline\n",
      "============================================================\n",
      "Searching for: \"What are the common names for Strombocarpa strombulifera, and how can I identify it among other mesquite shrubs?\"\n",
      "✓ Found 5 results\n",
      "Generating answer...\n",
      "✓ Answer generated\n",
      "============================================================\n",
      "\n",
      "Searching for: \"What are the common names for Strombocarpa strombulifera, and how can I identify it among other mesquite shrubs?\"\n",
      "✓ Found 5 results\n"
     ]
    },
    {
     "name": "stderr",
     "output_type": "stream",
     "text": [
      "Evaluating:  58%|████████████████████████████████████████████████████████████████████████████████████████████████████████████████████████████████████████████████████████████████████████████████████▉                                                                                                                                   | 87/150 [13:49<11:34, 11.02s/it]"
     ]
    },
    {
     "name": "stdout",
     "output_type": "stream",
     "text": [
      "Searching for: \"What is the scientific classification of the Great Desert Spoon?\"\n",
      "✓ Found 5 results\n",
      "\n",
      "============================================================\n",
      "RAG Pipeline\n",
      "============================================================\n",
      "Searching for: \"What is the scientific classification of the Great Desert Spoon?\"\n",
      "✓ Found 5 results\n",
      "Generating answer...\n",
      "✓ Answer generated\n",
      "============================================================\n",
      "\n",
      "Searching for: \"What is the scientific classification of the Great Desert Spoon?\"\n",
      "✓ Found 5 results\n"
     ]
    },
    {
     "name": "stderr",
     "output_type": "stream",
     "text": [
      "Evaluating:  59%|███████████████████████████████████████████████████████████████████████████████████████████████████████████████████████████████████████████████████████████████████████████████████████                                                                                                                                 | 88/150 [14:21<17:49, 17.24s/it]"
     ]
    },
    {
     "name": "stdout",
     "output_type": "stream",
     "text": [
      "Searching for: \"Where is the Great Desert Spoon native to?\"\n",
      "✓ Found 5 results\n",
      "\n",
      "============================================================\n",
      "RAG Pipeline\n",
      "============================================================\n",
      "Searching for: \"Where is the Great Desert Spoon native to?\"\n",
      "✓ Found 5 results\n",
      "Generating answer...\n",
      "✓ Answer generated\n",
      "============================================================\n",
      "\n",
      "Searching for: \"Where is the Great Desert Spoon native to?\"\n",
      "✓ Found 5 results\n"
     ]
    },
    {
     "name": "stderr",
     "output_type": "stream",
     "text": [
      "Evaluating:  59%|█████████████████████████████████████████████████████████████████████████████████████████████████████████████████████████████████████████████████████████████████████████████████████████                                                                                                                               | 89/150 [14:24<13:03, 12.84s/it]"
     ]
    },
    {
     "name": "stdout",
     "output_type": "stream",
     "text": [
      "Searching for: \"Is the Great Desert Spoon suitable for xeric gardening in Arizona?\"\n",
      "✓ Found 5 results\n",
      "\n",
      "============================================================\n",
      "RAG Pipeline\n",
      "============================================================\n",
      "Searching for: \"Is the Great Desert Spoon suitable for xeric gardening in Arizona?\"\n",
      "✓ Found 5 results\n",
      "Generating answer...\n",
      "✓ Answer generated\n",
      "============================================================\n",
      "\n",
      "Searching for: \"Is the Great Desert Spoon suitable for xeric gardening in Arizona?\"\n",
      "✓ Found 5 results\n"
     ]
    },
    {
     "name": "stderr",
     "output_type": "stream",
     "text": [
      "Evaluating:  60%|███████████████████████████████████████████████████████████████████████████████████████████████████████████████████████████████████████████████████████████████████████████████████████████▏                                                                                                                            | 90/150 [14:27<10:05, 10.10s/it]"
     ]
    },
    {
     "name": "stdout",
     "output_type": "stream",
     "text": [
      "Searching for: \"What are the common names for the White Carob Tree in Spanish and Guaraní?\"\n",
      "✓ Found 5 results\n",
      "\n",
      "============================================================\n",
      "RAG Pipeline\n",
      "============================================================\n",
      "Searching for: \"What are the common names for the White Carob Tree in Spanish and Guaraní?\"\n",
      "✓ Found 5 results\n",
      "Generating answer...\n",
      "✓ Answer generated\n",
      "============================================================\n",
      "\n",
      "Searching for: \"What are the common names for the White Carob Tree in Spanish and Guaraní?\"\n",
      "✓ Found 5 results\n"
     ]
    },
    {
     "name": "stderr",
     "output_type": "stream",
     "text": [
      "Evaluating:  61%|█████████████████████████████████████████████████████████████████████████████████████████████████████████████████████████████████████████████████████████████████████████████████████████████▎                                                                                                                          | 91/150 [14:30<07:40,  7.81s/it]"
     ]
    },
    {
     "name": "stdout",
     "output_type": "stream",
     "text": [
      "Searching for: \"What is the conservation status of the White Carob Tree (Neltuma alba)?\"\n",
      "✓ Found 5 results\n",
      "\n",
      "============================================================\n",
      "RAG Pipeline\n",
      "============================================================\n",
      "Searching for: \"What is the conservation status of the White Carob Tree (Neltuma alba)?\"\n",
      "✓ Found 5 results\n",
      "Generating answer...\n",
      "✓ Answer generated\n",
      "============================================================\n",
      "\n",
      "Searching for: \"What is the conservation status of the White Carob Tree (Neltuma alba)?\"\n",
      "✓ Found 5 results\n"
     ]
    },
    {
     "name": "stderr",
     "output_type": "stream",
     "text": [
      "Evaluating:  61%|███████████████████████████████████████████████████████████████████████████████████████████████████████████████████████████████████████████████████████████████████████████████████████████████▎                                                                                                                        | 92/150 [14:47<10:13, 10.58s/it]"
     ]
    },
    {
     "name": "stdout",
     "output_type": "stream",
     "text": [
      "Searching for: \"In which regions of South America does the White Carob Tree naturally grow?\"\n",
      "✓ Found 5 results\n",
      "\n",
      "============================================================\n",
      "RAG Pipeline\n",
      "============================================================\n",
      "Searching for: \"In which regions of South America does the White Carob Tree naturally grow?\"\n",
      "✓ Found 5 results\n",
      "Generating answer...\n",
      "✓ Answer generated\n",
      "============================================================\n",
      "\n",
      "Searching for: \"In which regions of South America does the White Carob Tree naturally grow?\"\n",
      "✓ Found 5 results\n"
     ]
    },
    {
     "name": "stderr",
     "output_type": "stream",
     "text": [
      "Evaluating:  62%|█████████████████████████████████████████████████████████████████████████████████████████████████████████████████████████████████████████████████████████████████████████████████████████████████▍                                                                                                                      | 93/150 [14:51<08:18,  8.75s/it]"
     ]
    },
    {
     "name": "stdout",
     "output_type": "stream",
     "text": [
      "Searching for: \"What is the conservation status of Los Cabos Nipple Cactus (Cochemiea armillata)?\"\n",
      "✓ Found 5 results\n",
      "\n",
      "============================================================\n",
      "RAG Pipeline\n",
      "============================================================\n",
      "Searching for: \"What is the conservation status of Los Cabos Nipple Cactus (Cochemiea armillata)?\"\n",
      "✓ Found 5 results\n",
      "Generating answer...\n",
      "✓ Answer generated\n",
      "============================================================\n",
      "\n",
      "Searching for: \"What is the conservation status of Los Cabos Nipple Cactus (Cochemiea armillata)?\"\n",
      "✓ Found 5 results\n"
     ]
    },
    {
     "name": "stderr",
     "output_type": "stream",
     "text": [
      "Evaluating:  63%|███████████████████████████████████████████████████████████████████████████████████████████████████████████████████████████████████████████████████████████████████████████████████████████████████▌                                                                                                                    | 94/150 [15:22<14:22, 15.40s/it]"
     ]
    },
    {
     "name": "stdout",
     "output_type": "stream",
     "text": [
      "Searching for: \"How many observations of Cochemiea armillata have been recorded in Arizona?\"\n",
      "✓ Found 5 results\n",
      "\n",
      "============================================================\n",
      "RAG Pipeline\n",
      "============================================================\n",
      "Searching for: \"How many observations of Cochemiea armillata have been recorded in Arizona?\"\n",
      "✓ Found 5 results\n",
      "Generating answer...\n",
      "✓ Answer generated\n",
      "============================================================\n",
      "\n",
      "Searching for: \"How many observations of Cochemiea armillata have been recorded in Arizona?\"\n",
      "✓ Found 5 results\n"
     ]
    },
    {
     "name": "stderr",
     "output_type": "stream",
     "text": [
      "Evaluating:  63%|█████████████████████████████████████████████████████████████████████████████████████████████████████████████████████████████████████████████████████████████████████████████████████████████████████▌                                                                                                                  | 95/150 [15:24<10:25, 11.37s/it]"
     ]
    },
    {
     "name": "stdout",
     "output_type": "stream",
     "text": [
      "Searching for: \"Is Cochemiea armillata suitable for cultivation in a home garden?\"\n",
      "✓ Found 5 results\n",
      "\n",
      "============================================================\n",
      "RAG Pipeline\n",
      "============================================================\n",
      "Searching for: \"Is Cochemiea armillata suitable for cultivation in a home garden?\"\n",
      "✓ Found 5 results\n",
      "Generating answer...\n",
      "✓ Answer generated\n",
      "============================================================\n",
      "\n",
      "Searching for: \"Is Cochemiea armillata suitable for cultivation in a home garden?\"\n",
      "✓ Found 5 results\n"
     ]
    },
    {
     "name": "stderr",
     "output_type": "stream",
     "text": [
      "Evaluating:  64%|███████████████████████████████████████████████████████████████████████████████████████████████████████████████████████████████████████████████████████████████████████████████████████████████████████▋                                                                                                                | 96/150 [15:27<08:00,  8.90s/it]"
     ]
    },
    {
     "name": "stdout",
     "output_type": "stream",
     "text": [
      "Searching for: \"What family does the blue palo verde belong to?\"\n",
      "✓ Found 5 results\n",
      "\n",
      "============================================================\n",
      "RAG Pipeline\n",
      "============================================================\n",
      "Searching for: \"What family does the blue palo verde belong to?\"\n",
      "✓ Found 5 results\n",
      "Generating answer...\n",
      "✓ Answer generated\n",
      "============================================================\n",
      "\n",
      "Searching for: \"What family does the blue palo verde belong to?\"\n",
      "✓ Found 5 results\n"
     ]
    },
    {
     "name": "stderr",
     "output_type": "stream",
     "text": [
      "Evaluating:  65%|█████████████████████████████████████████████████████████████████████████████████████████████████████████████████████████████████████████████████████████████████████████████████████████████████████████▊                                                                                                              | 97/150 [15:31<06:21,  7.20s/it]"
     ]
    },
    {
     "name": "stdout",
     "output_type": "stream",
     "text": [
      "Searching for: \"What are the key characteristics of the blue palo verde that help with its identification?\"\n",
      "✓ Found 5 results\n",
      "\n",
      "============================================================\n",
      "RAG Pipeline\n",
      "============================================================\n",
      "Searching for: \"What are the key characteristics of the blue palo verde that help with its identification?\"\n",
      "✓ Found 5 results\n",
      "Generating answer...\n",
      "✓ Answer generated\n",
      "============================================================\n",
      "\n",
      "Searching for: \"What are the key characteristics of the blue palo verde that help with its identification?\"\n",
      "✓ Found 5 results\n"
     ]
    },
    {
     "name": "stderr",
     "output_type": "stream",
     "text": [
      "Evaluating:  65%|███████████████████████████████████████████████████████████████████████████████████████████████████████████████████████████████████████████████████████████████████████████████████████████████████████████▊                                                                                                            | 98/150 [15:48<08:48, 10.17s/it]"
     ]
    },
    {
     "name": "stdout",
     "output_type": "stream",
     "text": [
      "Searching for: \"Is the blue palo verde native to Arizona and what regions is it commonly found in?\"\n",
      "✓ Found 5 results\n",
      "\n",
      "============================================================\n",
      "RAG Pipeline\n",
      "============================================================\n",
      "Searching for: \"Is the blue palo verde native to Arizona and what regions is it commonly found in?\"\n",
      "✓ Found 5 results\n",
      "Generating answer...\n",
      "✓ Answer generated\n",
      "============================================================\n",
      "\n",
      "Searching for: \"Is the blue palo verde native to Arizona and what regions is it commonly found in?\"\n",
      "✓ Found 5 results\n"
     ]
    },
    {
     "name": "stderr",
     "output_type": "stream",
     "text": [
      "Evaluating:  66%|█████████████████████████████████████████████████████████████████████████████████████████████████████████████████████████████████████████████████████████████████████████████████████████████████████████████▉                                                                                                          | 99/150 [15:52<07:08,  8.41s/it]"
     ]
    },
    {
     "name": "stdout",
     "output_type": "stream",
     "text": [
      "Searching for: \"What type of soil does the calden (Neltuma caldenia) prefer for optimal growth?\"\n",
      "✓ Found 5 results\n",
      "\n",
      "============================================================\n",
      "RAG Pipeline\n",
      "============================================================\n",
      "Searching for: \"What type of soil does the calden (Neltuma caldenia) prefer for optimal growth?\"\n",
      "✓ Found 5 results\n",
      "Generating answer...\n",
      "✓ Answer generated\n",
      "============================================================\n",
      "\n",
      "Searching for: \"What type of soil does the calden (Neltuma caldenia) prefer for optimal growth?\"\n",
      "✓ Found 5 results\n"
     ]
    },
    {
     "name": "stderr",
     "output_type": "stream",
     "text": [
      "Evaluating:  67%|███████████████████████████████████████████████████████████████████████████████████████████████████████████████████████████████████████████████████████████████████████████████████████████████████████████████▎                                                                                                       | 100/150 [16:23<12:40, 15.21s/it]"
     ]
    },
    {
     "name": "stdout",
     "output_type": "stream",
     "text": [
      "Searching for: \"How does the calden tree adapt to drought conditions?\"\n",
      "✓ Found 5 results\n",
      "\n",
      "============================================================\n",
      "RAG Pipeline\n",
      "============================================================\n",
      "Searching for: \"How does the calden tree adapt to drought conditions?\"\n",
      "✓ Found 5 results\n",
      "Generating answer...\n",
      "✓ Answer generated\n",
      "============================================================\n",
      "\n",
      "Searching for: \"How does the calden tree adapt to drought conditions?\"\n",
      "✓ Found 5 results\n"
     ]
    },
    {
     "name": "stderr",
     "output_type": "stream",
     "text": [
      "Evaluating:  67%|█████████████████████████████████████████████████████████████████████████████████████████████████████████████████████████████████████████████████████████████████████████████████████████████████████████████████▍                                                                                                     | 101/150 [16:27<09:40, 11.85s/it]"
     ]
    },
    {
     "name": "stdout",
     "output_type": "stream",
     "text": [
      "Searching for: \"Can the calden tree be successfully grown in Arizona's climate?\"\n",
      "✓ Found 5 results\n",
      "\n",
      "============================================================\n",
      "RAG Pipeline\n",
      "============================================================\n",
      "Searching for: \"Can the calden tree be successfully grown in Arizona's climate?\"\n",
      "✓ Found 5 results\n",
      "Generating answer...\n",
      "✓ Answer generated\n",
      "============================================================\n",
      "\n",
      "Searching for: \"Can the calden tree be successfully grown in Arizona's climate?\"\n",
      "✓ Found 5 results\n"
     ]
    },
    {
     "name": "stderr",
     "output_type": "stream",
     "text": [
      "Evaluating:  68%|███████████████████████████████████████████████████████████████████████████████████████████████████████████████████████████████████████████████████████████████████████████████████████████████████████████████████▍                                                                                                   | 102/150 [16:30<07:25,  9.28s/it]"
     ]
    },
    {
     "name": "stdout",
     "output_type": "stream",
     "text": [
      "Searching for: \"What family does the Queen Victoria agave belong to?\"\n",
      "✓ Found 5 results\n",
      "\n",
      "============================================================\n",
      "RAG Pipeline\n",
      "============================================================\n",
      "Searching for: \"What family does the Queen Victoria agave belong to?\"\n",
      "✓ Found 5 results\n",
      "Generating answer...\n",
      "✓ Answer generated\n",
      "============================================================\n",
      "\n",
      "Searching for: \"What family does the Queen Victoria agave belong to?\"\n",
      "✓ Found 5 results\n"
     ]
    },
    {
     "name": "stderr",
     "output_type": "stream",
     "text": [
      "Evaluating:  69%|█████████████████████████████████████████████████████████████████████████████████████████████████████████████████████████████████████████████████████████████████████████████████████████████████████████████████████▌                                                                                                 | 103/150 [16:33<05:47,  7.40s/it]"
     ]
    },
    {
     "name": "stdout",
     "output_type": "stream",
     "text": [
      "Searching for: \"How would you describe the appearance of Agave victoriae-reginae?\"\n",
      "✓ Found 5 results\n",
      "\n",
      "============================================================\n",
      "RAG Pipeline\n",
      "============================================================\n",
      "Searching for: \"How would you describe the appearance of Agave victoriae-reginae?\"\n",
      "✓ Found 5 results\n",
      "Generating answer...\n",
      "✓ Answer generated\n",
      "============================================================\n",
      "\n",
      "Searching for: \"How would you describe the appearance of Agave victoriae-reginae?\"\n",
      "✓ Found 5 results\n"
     ]
    },
    {
     "name": "stderr",
     "output_type": "stream",
     "text": [
      "Evaluating:  69%|███████████████████████████████████████████████████████████████████████████████████████████████████████████████████████████████████████████████████████████████████████████████████████████████████████████████████████▋                                                                                               | 104/150 [16:52<08:11, 10.69s/it]"
     ]
    },
    {
     "name": "stdout",
     "output_type": "stream",
     "text": [
      "Searching for: \"Is the Queen Victoria agave suitable for ornamental gardening in Arizona?\"\n",
      "✓ Found 5 results\n",
      "\n",
      "============================================================\n",
      "RAG Pipeline\n",
      "============================================================\n",
      "Searching for: \"Is the Queen Victoria agave suitable for ornamental gardening in Arizona?\"\n",
      "✓ Found 5 results\n",
      "Generating answer...\n",
      "✓ Answer generated\n",
      "============================================================\n",
      "\n",
      "Searching for: \"Is the Queen Victoria agave suitable for ornamental gardening in Arizona?\"\n",
      "✓ Found 5 results\n"
     ]
    },
    {
     "name": "stderr",
     "output_type": "stream",
     "text": [
      "Evaluating:  70%|█████████████████████████████████████████████████████████████████████████████████████████████████████████████████████████████████████████████████████████████████████████████████████████████████████████████████████████▋                                                                                             | 105/150 [17:17<11:12, 14.95s/it]"
     ]
    },
    {
     "name": "stdout",
     "output_type": "stream",
     "text": [
      "Searching for: \"What is the conservation status of the Mexican Pony Tail Palm (Beaucarnea gracilis)?\"\n",
      "✓ Found 5 results\n",
      "\n",
      "============================================================\n",
      "RAG Pipeline\n",
      "============================================================\n",
      "Searching for: \"What is the conservation status of the Mexican Pony Tail Palm (Beaucarnea gracilis)?\"\n",
      "✓ Found 5 results\n",
      "Generating answer...\n",
      "✓ Answer generated\n",
      "============================================================\n",
      "\n",
      "Searching for: \"What is the conservation status of the Mexican Pony Tail Palm (Beaucarnea gracilis)?\"\n",
      "✓ Found 5 results\n"
     ]
    },
    {
     "name": "stderr",
     "output_type": "stream",
     "text": [
      "Evaluating:  71%|███████████████████████████████████████████████████████████████████████████████████████████████████████████████████████████████████████████████████████████████████████████████████████████████████████████████████████████▊                                                                                           | 106/150 [17:26<09:47, 13.34s/it]"
     ]
    },
    {
     "name": "stdout",
     "output_type": "stream",
     "text": [
      "Searching for: \"What does the term 'gracilis' imply about the Mexican Pony Tail Palm's trunk?\"\n",
      "✓ Found 5 results\n",
      "\n",
      "============================================================\n",
      "RAG Pipeline\n",
      "============================================================\n",
      "Searching for: \"What does the term 'gracilis' imply about the Mexican Pony Tail Palm's trunk?\"\n",
      "✓ Found 5 results\n",
      "Generating answer...\n",
      "✓ Answer generated\n",
      "============================================================\n",
      "\n",
      "Searching for: \"What does the term 'gracilis' imply about the Mexican Pony Tail Palm's trunk?\"\n",
      "✓ Found 5 results\n"
     ]
    },
    {
     "name": "stderr",
     "output_type": "stream",
     "text": [
      "Evaluating:  71%|█████████████████████████████████████████████████████████████████████████████████████████████████████████████████████████████████████████████████████████████████████████████████████████████████████████████████████████████▊                                                                                         | 107/150 [17:30<07:26, 10.39s/it]"
     ]
    },
    {
     "name": "stdout",
     "output_type": "stream",
     "text": [
      "Searching for: \"Where is the native habitat of Beaucarnea gracilis?\"\n",
      "✓ Found 5 results\n",
      "\n",
      "============================================================\n",
      "RAG Pipeline\n",
      "============================================================\n",
      "Searching for: \"Where is the native habitat of Beaucarnea gracilis?\"\n",
      "✓ Found 5 results\n",
      "Generating answer...\n",
      "✓ Answer generated\n",
      "============================================================\n",
      "\n",
      "Searching for: \"Where is the native habitat of Beaucarnea gracilis?\"\n",
      "✓ Found 5 results\n"
     ]
    },
    {
     "name": "stderr",
     "output_type": "stream",
     "text": [
      "Evaluating:  72%|███████████████████████████████████████████████████████████████████████████████████████████████████████████████████████████████████████████████████████████████████████████████████████████████████████████████████████████████▉                                                                                       | 108/150 [17:33<05:42,  8.15s/it]"
     ]
    },
    {
     "name": "stdout",
     "output_type": "stream",
     "text": [
      "Searching for: \"What are the native habitats of the common fishhook cactus (Cochemiea tetrancistra)?\"\n",
      "✓ Found 5 results\n",
      "\n",
      "============================================================\n",
      "RAG Pipeline\n",
      "============================================================\n",
      "Searching for: \"What are the native habitats of the common fishhook cactus (Cochemiea tetrancistra)?\"\n",
      "✓ Found 5 results\n",
      "Generating answer...\n",
      "✓ Answer generated\n",
      "============================================================\n",
      "\n",
      "Searching for: \"What are the native habitats of the common fishhook cactus (Cochemiea tetrancistra)?\"\n",
      "✓ Found 5 results\n"
     ]
    },
    {
     "name": "stderr",
     "output_type": "stream",
     "text": [
      "Evaluating:  73%|█████████████████████████████████████████████████████████████████████████████████████████████████████████████████████████████████████████████████████████████████████████████████████████████████████████████████████████████████▉                                                                                     | 109/150 [17:36<04:31,  6.62s/it]"
     ]
    },
    {
     "name": "stdout",
     "output_type": "stream",
     "text": [
      "Searching for: \"How many observations of the common fishhook cactus have been recorded in Arizona?\"\n",
      "✓ Found 5 results\n",
      "\n",
      "============================================================\n",
      "RAG Pipeline\n",
      "============================================================\n",
      "Searching for: \"How many observations of the common fishhook cactus have been recorded in Arizona?\"\n",
      "✓ Found 5 results\n",
      "Generating answer...\n",
      "✓ Answer generated\n",
      "============================================================\n",
      "\n",
      "Searching for: \"How many observations of the common fishhook cactus have been recorded in Arizona?\"\n",
      "✓ Found 5 results\n"
     ]
    },
    {
     "name": "stderr",
     "output_type": "stream",
     "text": [
      "Evaluating:  73%|████████████████████████████████████████████████████████████████████████████████████████████████████████████████████████████████████████████████████████████████████████████████████████████████████████████████████████████████████                                                                                   | 110/150 [17:53<06:29,  9.75s/it]"
     ]
    },
    {
     "name": "stdout",
     "output_type": "stream",
     "text": [
      "Searching for: \"What family and genus does the common fishhook cactus belong to?\"\n",
      "✓ Found 5 results\n",
      "\n",
      "============================================================\n",
      "RAG Pipeline\n",
      "============================================================\n",
      "Searching for: \"What family and genus does the common fishhook cactus belong to?\"\n",
      "✓ Found 5 results\n",
      "Generating answer...\n",
      "✓ Answer generated\n",
      "============================================================\n",
      "\n",
      "Searching for: \"What family and genus does the common fishhook cactus belong to?\"\n",
      "✓ Found 5 results\n"
     ]
    },
    {
     "name": "stderr",
     "output_type": "stream",
     "text": [
      "Evaluating:  74%|██████████████████████████████████████████████████████████████████████████████████████████████████████████████████████████████████████████████████████████████████████████████████████████████████████████████████████████████████████▏                                                                                | 111/150 [18:17<09:14, 14.22s/it]"
     ]
    },
    {
     "name": "stdout",
     "output_type": "stream",
     "text": [
      "Searching for: \"What are the common names for Neltuma chilensis?\"\n",
      "✓ Found 5 results\n",
      "\n",
      "============================================================\n",
      "RAG Pipeline\n",
      "============================================================\n",
      "Searching for: \"What are the common names for Neltuma chilensis?\"\n",
      "✓ Found 5 results\n",
      "Generating answer...\n",
      "✓ Answer generated\n",
      "============================================================\n",
      "\n",
      "Searching for: \"What are the common names for Neltuma chilensis?\"\n",
      "✓ Found 5 results\n"
     ]
    },
    {
     "name": "stderr",
     "output_type": "stream",
     "text": [
      "Evaluating:  75%|████████████████████████████████████████████████████████████████████████████████████████████████████████████████████████████████████████████████████████████████████████████████████████████████████████████████████████████████████████▏                                                                              | 112/150 [18:27<08:05, 12.77s/it]"
     ]
    },
    {
     "name": "stdout",
     "output_type": "stream",
     "text": [
      "Searching for: \"In which regions outside of Arizona is Chilean mesquite naturally found?\"\n",
      "✓ Found 5 results\n",
      "\n",
      "============================================================\n",
      "RAG Pipeline\n",
      "============================================================\n",
      "Searching for: \"In which regions outside of Arizona is Chilean mesquite naturally found?\"\n",
      "✓ Found 5 results\n",
      "Generating answer...\n",
      "✓ Answer generated\n",
      "============================================================\n",
      "\n",
      "Searching for: \"In which regions outside of Arizona is Chilean mesquite naturally found?\"\n",
      "✓ Found 5 results\n"
     ]
    },
    {
     "name": "stderr",
     "output_type": "stream",
     "text": [
      "Evaluating:  75%|██████████████████████████████████████████████████████████████████████████████████████████████████████████████████████████████████████████████████████████████████████████████████████████████████████████████████████████████████████████▎                                                                            | 113/150 [18:30<06:06,  9.90s/it]"
     ]
    },
    {
     "name": "stdout",
     "output_type": "stream",
     "text": [
      "Searching for: \"What are some practical uses for Chilean mesquite in gardening or landscaping?\"\n",
      "✓ Found 5 results\n",
      "\n",
      "============================================================\n",
      "RAG Pipeline\n",
      "============================================================\n",
      "Searching for: \"What are some practical uses for Chilean mesquite in gardening or landscaping?\"\n",
      "✓ Found 5 results\n",
      "Generating answer...\n",
      "✓ Answer generated\n",
      "============================================================\n",
      "\n",
      "Searching for: \"What are some practical uses for Chilean mesquite in gardening or landscaping?\"\n",
      "✓ Found 5 results\n"
     ]
    },
    {
     "name": "stderr",
     "output_type": "stream",
     "text": [
      "Evaluating:  76%|████████████████████████████████████████████████████████████████████████████████████████████████████████████████████████████████████████████████████████████████████████████████████████████████████████████████████████████████████████████▎                                                                          | 114/150 [18:34<04:52,  8.12s/it]"
     ]
    },
    {
     "name": "stdout",
     "output_type": "stream",
     "text": [
      "Searching for: \"What family does honey mesquite (Neltuma glandulosa) belong to?\"\n",
      "✓ Found 5 results\n",
      "\n",
      "============================================================\n",
      "RAG Pipeline\n",
      "============================================================\n",
      "Searching for: \"What family does honey mesquite (Neltuma glandulosa) belong to?\"\n",
      "✓ Found 5 results\n",
      "Generating answer...\n",
      "✓ Answer generated\n",
      "============================================================\n",
      "\n",
      "Searching for: \"What family does honey mesquite (Neltuma glandulosa) belong to?\"\n",
      "✓ Found 5 results\n"
     ]
    },
    {
     "name": "stderr",
     "output_type": "stream",
     "text": [
      "Evaluating:  77%|██████████████████████████████████████████████████████████████████████████████████████████████████████████████████████████████████████████████████████████████████████████████████████████████████████████████████████████████████████████████▍                                                                        | 115/150 [18:36<03:45,  6.43s/it]"
     ]
    },
    {
     "name": "stdout",
     "output_type": "stream",
     "text": [
      "Searching for: \"Is honey mesquite a shrub or a tree, and what is its typical size?\"\n",
      "✓ Found 5 results\n",
      "\n",
      "============================================================\n",
      "RAG Pipeline\n",
      "============================================================\n",
      "Searching for: \"Is honey mesquite a shrub or a tree, and what is its typical size?\"\n",
      "✓ Found 5 results\n",
      "Generating answer...\n",
      "✓ Answer generated\n",
      "============================================================\n",
      "\n",
      "Searching for: \"Is honey mesquite a shrub or a tree, and what is its typical size?\"\n",
      "✓ Found 5 results\n"
     ]
    },
    {
     "name": "stderr",
     "output_type": "stream",
     "text": [
      "Evaluating:  77%|████████████████████████████████████████████████████████████████████████████████████████████████████████████████████████████████████████████████████████████████████████████████████████████████████████████████████████████████████████████████▌                                                                      | 116/150 [18:55<05:37,  9.94s/it]"
     ]
    },
    {
     "name": "stdout",
     "output_type": "stream",
     "text": [
      "Searching for: \"What should I consider when selecting honey mesquite for my garden in Arizona?\"\n",
      "✓ Found 5 results\n",
      "\n",
      "============================================================\n",
      "RAG Pipeline\n",
      "============================================================\n",
      "Searching for: \"What should I consider when selecting honey mesquite for my garden in Arizona?\"\n",
      "✓ Found 5 results\n",
      "Generating answer...\n",
      "✓ Answer generated\n",
      "============================================================\n",
      "\n",
      "Searching for: \"What should I consider when selecting honey mesquite for my garden in Arizona?\"\n",
      "✓ Found 5 results\n"
     ]
    },
    {
     "name": "stderr",
     "output_type": "stream",
     "text": [
      "Evaluating:  78%|██████████████████████████████████████████████████████████████████████████████████████████████████████████████████████████████████████████████████████████████████████████████████████████████████████████████████████████████████████████████████▌                                                                    | 117/150 [19:25<08:53, 16.17s/it]"
     ]
    },
    {
     "name": "stdout",
     "output_type": "stream",
     "text": [
      "Searching for: \"What are the native regions of the mesquite plant (Neltuma juliflora)?\"\n",
      "✓ Found 5 results\n",
      "\n",
      "============================================================\n",
      "RAG Pipeline\n",
      "============================================================\n",
      "Searching for: \"What are the native regions of the mesquite plant (Neltuma juliflora)?\"\n",
      "✓ Found 5 results\n",
      "Generating answer...\n",
      "✓ Answer generated\n",
      "============================================================\n",
      "\n",
      "Searching for: \"What are the native regions of the mesquite plant (Neltuma juliflora)?\"\n",
      "✓ Found 5 results\n"
     ]
    },
    {
     "name": "stderr",
     "output_type": "stream",
     "text": [
      "Evaluating:  79%|████████████████████████████████████████████████████████████████████████████████████████████████████████████████████████████████████████████████████████████████████████████████████████████████████████████████████████████████████████████████████▋                                                                  | 118/150 [19:29<06:40, 12.53s/it]"
     ]
    },
    {
     "name": "stdout",
     "output_type": "stream",
     "text": [
      "Searching for: \"Is mesquite (Prosopis juliflora) suitable for gardens in Arizona?\"\n",
      "✓ Found 5 results\n",
      "\n",
      "============================================================\n",
      "RAG Pipeline\n",
      "============================================================\n",
      "Searching for: \"Is mesquite (Prosopis juliflora) suitable for gardens in Arizona?\"\n",
      "✓ Found 5 results\n",
      "Generating answer...\n",
      "✓ Answer generated\n",
      "============================================================\n",
      "\n",
      "Searching for: \"Is mesquite (Prosopis juliflora) suitable for gardens in Arizona?\"\n",
      "✓ Found 5 results\n"
     ]
    },
    {
     "name": "stderr",
     "output_type": "stream",
     "text": [
      "Evaluating:  79%|██████████████████████████████████████████████████████████████████████████████████████████████████████████████████████████████████████████████████████████████████████████████████████████████████████████████████████████████████████████████████████▋                                                                | 119/150 [19:33<05:09,  9.99s/it]"
     ]
    },
    {
     "name": "stdout",
     "output_type": "stream",
     "text": [
      "Searching for: \"Does mesquite contribute to malaria transmission and should that influence its cultivation?\"\n",
      "✓ Found 5 results\n",
      "\n",
      "============================================================\n",
      "RAG Pipeline\n",
      "============================================================\n",
      "Searching for: \"Does mesquite contribute to malaria transmission and should that influence its cultivation?\"\n",
      "✓ Found 5 results\n",
      "Generating answer...\n",
      "✓ Answer generated\n",
      "============================================================\n",
      "\n",
      "Searching for: \"Does mesquite contribute to malaria transmission and should that influence its cultivation?\"\n",
      "✓ Found 5 results\n"
     ]
    },
    {
     "name": "stderr",
     "output_type": "stream",
     "text": [
      "Evaluating:  80%|████████████████████████████████████████████████████████████████████████████████████████████████████████████████████████████████████████████████████████████████████████████████████████████████████████████████████████████████████████████████████████▊                                                              | 120/150 [19:37<04:00,  8.00s/it]"
     ]
    },
    {
     "name": "stdout",
     "output_type": "stream",
     "text": [
      "Searching for: \"What are the native regions of the smooth mesquite (Neltuma laevigata)?\"\n",
      "✓ Found 5 results\n",
      "\n",
      "============================================================\n",
      "RAG Pipeline\n",
      "============================================================\n",
      "Searching for: \"What are the native regions of the smooth mesquite (Neltuma laevigata)?\"\n",
      "✓ Found 5 results\n",
      "Generating answer...\n",
      "✓ Answer generated\n",
      "============================================================\n",
      "\n",
      "Searching for: \"What are the native regions of the smooth mesquite (Neltuma laevigata)?\"\n",
      "✓ Found 5 results\n"
     ]
    },
    {
     "name": "stderr",
     "output_type": "stream",
     "text": [
      "Evaluating:  81%|██████████████████████████████████████████████████████████████████████████████████████████████████████████████████████████████████████████████████████████████████████████████████████████████████████████████████████████████████████████████████████████▊                                                            | 121/150 [19:55<05:23, 11.15s/it]"
     ]
    },
    {
     "name": "stdout",
     "output_type": "stream",
     "text": [
      "Searching for: \"In what types of locations does smooth mesquite typically grow in Arizona?\"\n",
      "✓ Found 5 results\n",
      "\n",
      "============================================================\n",
      "RAG Pipeline\n",
      "============================================================\n",
      "Searching for: \"In what types of locations does smooth mesquite typically grow in Arizona?\"\n",
      "✓ Found 5 results\n",
      "Generating answer...\n",
      "✓ Answer generated\n",
      "============================================================\n",
      "\n",
      "Searching for: \"In what types of locations does smooth mesquite typically grow in Arizona?\"\n",
      "✓ Found 5 results\n"
     ]
    },
    {
     "name": "stderr",
     "output_type": "stream",
     "text": [
      "Evaluating:  81%|████████████████████████████████████████████████████████████████████████████████████████████████████████████████████████████████████████████████████████████████████████████████████████████████████████████████████████████████████████████████████████████▉                                                          | 122/150 [20:27<08:02, 17.23s/it]"
     ]
    },
    {
     "name": "stdout",
     "output_type": "stream",
     "text": [
      "Searching for: \"What family does the smooth mesquite belong to, and how does this affect its care in a garden setting?\"\n",
      "✓ Found 5 results\n",
      "\n",
      "============================================================\n",
      "RAG Pipeline\n",
      "============================================================\n",
      "Searching for: \"What family does the smooth mesquite belong to, and how does this affect its care in a garden setting?\"\n",
      "✓ Found 5 results\n",
      "Generating answer...\n",
      "✓ Answer generated\n",
      "============================================================\n",
      "\n",
      "Searching for: \"What family does the smooth mesquite belong to, and how does this affect its care in a garden setting?\"\n",
      "✓ Found 5 results\n"
     ]
    },
    {
     "name": "stderr",
     "output_type": "stream",
     "text": [
      "Evaluating:  82%|███████████████████████████████████████████████████████████████████████████████████████████████████████████████████████████████████████████████████████████████████████████████████████████████████████████████████████████████████████████████████████████████                                                        | 123/150 [20:31<05:56, 13.22s/it]"
     ]
    },
    {
     "name": "stdout",
     "output_type": "stream",
     "text": [
      "Searching for: \"What type of habitat does the large-leaved lupine (Lupinus polyphyllus) prefer?\"\n",
      "✓ Found 5 results\n",
      "\n",
      "============================================================\n",
      "RAG Pipeline\n",
      "============================================================\n",
      "Searching for: \"What type of habitat does the large-leaved lupine (Lupinus polyphyllus) prefer?\"\n",
      "✓ Found 5 results\n",
      "Generating answer...\n",
      "✓ Answer generated\n",
      "============================================================\n",
      "\n",
      "Searching for: \"What type of habitat does the large-leaved lupine (Lupinus polyphyllus) prefer?\"\n",
      "✓ Found 5 results\n"
     ]
    },
    {
     "name": "stderr",
     "output_type": "stream",
     "text": [
      "Evaluating:  83%|█████████████████████████████████████████████████████████████████████████████████████████████████████████████████████████████████████████████████████████████████████████████████████████████████████████████████████████████████████████████████████████████████                                                      | 124/150 [20:34<04:27, 10.29s/it]"
     ]
    },
    {
     "name": "stdout",
     "output_type": "stream",
     "text": [
      "Searching for: \"Is the large-leaved lupine native to Arizona?\"\n",
      "✓ Found 5 results\n",
      "\n",
      "============================================================\n",
      "RAG Pipeline\n",
      "============================================================\n",
      "Searching for: \"Is the large-leaved lupine native to Arizona?\"\n",
      "✓ Found 5 results\n",
      "Generating answer...\n",
      "✓ Answer generated\n",
      "============================================================\n",
      "\n",
      "Searching for: \"Is the large-leaved lupine native to Arizona?\"\n",
      "✓ Found 5 results\n"
     ]
    },
    {
     "name": "stderr",
     "output_type": "stream",
     "text": [
      "Evaluating:  83%|███████████████████████████████████████████████████████████████████████████████████████████████████████████████████████████████████████████████████████████████████████████████████████████████████████████████████████████████████████████████████████████████████▏                                                   | 125/150 [20:37<03:19,  7.96s/it]"
     ]
    },
    {
     "name": "stdout",
     "output_type": "stream",
     "text": [
      "Searching for: \"How many observations of Lupinus polyphyllus have been recorded in Arizona?\"\n",
      "✓ Found 5 results\n",
      "\n",
      "============================================================\n",
      "RAG Pipeline\n",
      "============================================================\n",
      "Searching for: \"How many observations of Lupinus polyphyllus have been recorded in Arizona?\"\n",
      "✓ Found 5 results\n",
      "Generating answer...\n",
      "✓ Answer generated\n",
      "============================================================\n",
      "\n",
      "Searching for: \"How many observations of Lupinus polyphyllus have been recorded in Arizona?\"\n",
      "✓ Found 5 results\n"
     ]
    },
    {
     "name": "stderr",
     "output_type": "stream",
     "text": [
      "Evaluating:  84%|█████████████████████████████████████████████████████████████████████████████████████████████████████████████████████████████████████████████████████████████████████████████████████████████████████████████████████████████████████████████████████████████████████▏                                                 | 126/150 [20:54<04:17, 10.75s/it]"
     ]
    },
    {
     "name": "stdout",
     "output_type": "stream",
     "text": [
      "Searching for: \"What family does the Broad-lipped Twayblade (Neottia convallarioides) belong to?\"\n",
      "✓ Found 5 results\n",
      "\n",
      "============================================================\n",
      "RAG Pipeline\n",
      "============================================================\n",
      "Searching for: \"What family does the Broad-lipped Twayblade (Neottia convallarioides) belong to?\"\n",
      "✓ Found 5 results\n",
      "Generating answer...\n",
      "✓ Answer generated\n",
      "============================================================\n",
      "\n",
      "Searching for: \"What family does the Broad-lipped Twayblade (Neottia convallarioides) belong to?\"\n",
      "✓ Found 5 results\n"
     ]
    },
    {
     "name": "stderr",
     "output_type": "stream",
     "text": [
      "Evaluating:  85%|███████████████████████████████████████████████████████████████████████████████████████████████████████████████████████████████████████████████████████████████████████████████████████████████████████████████████████████████████████████████████████████████████████▎                                               | 127/150 [21:19<05:49, 15.20s/it]"
     ]
    },
    {
     "name": "stdout",
     "output_type": "stream",
     "text": [
      "Searching for: \"How many observations of the Broad-lipped Twayblade have been recorded in Arizona?\"\n",
      "✓ Found 5 results\n",
      "\n",
      "============================================================\n",
      "RAG Pipeline\n",
      "============================================================\n",
      "Searching for: \"How many observations of the Broad-lipped Twayblade have been recorded in Arizona?\"\n",
      "✓ Found 5 results\n",
      "Generating answer...\n",
      "✓ Answer generated\n",
      "============================================================\n",
      "\n",
      "Searching for: \"How many observations of the Broad-lipped Twayblade have been recorded in Arizona?\"\n",
      "✓ Found 5 results\n"
     ]
    },
    {
     "name": "stderr",
     "output_type": "stream",
     "text": [
      "Evaluating:  85%|█████████████████████████████████████████████████████████████████████████████████████████████████████████████████████████████████████████████████████████████████████████████████████████████████████████████████████████████████████████████████████████████████████████▍                                             | 128/150 [21:29<04:57, 13.51s/it]"
     ]
    },
    {
     "name": "stdout",
     "output_type": "stream",
     "text": [
      "Searching for: \"What is the previous genus designation for the Broad-lipped Twayblade before it was moved to Neottia?\"\n",
      "✓ Found 5 results\n",
      "\n",
      "============================================================\n",
      "RAG Pipeline\n",
      "============================================================\n",
      "Searching for: \"What is the previous genus designation for the Broad-lipped Twayblade before it was moved to Neottia?\"\n",
      "✓ Found 5 results\n",
      "Generating answer...\n",
      "✓ Answer generated\n",
      "============================================================\n",
      "\n",
      "Searching for: \"What is the previous genus designation for the Broad-lipped Twayblade before it was moved to Neottia?\"\n",
      "✓ Found 5 results\n"
     ]
    },
    {
     "name": "stderr",
     "output_type": "stream",
     "text": [
      "Evaluating:  86%|███████████████████████████████████████████████████████████████████████████████████████████████████████████████████████████████████████████████████████████████████████████████████████████████████████████████████████████████████████████████████████████████████████████▍                                           | 129/150 [21:31<03:33, 10.15s/it]"
     ]
    },
    {
     "name": "stdout",
     "output_type": "stream",
     "text": [
      "Searching for: \"What family does the pink fairy-duster (Calliandra eriophylla) belong to?\"\n",
      "✓ Found 5 results\n",
      "\n",
      "============================================================\n",
      "RAG Pipeline\n",
      "============================================================\n",
      "Searching for: \"What family does the pink fairy-duster (Calliandra eriophylla) belong to?\"\n",
      "✓ Found 5 results\n",
      "Generating answer...\n",
      "✓ Answer generated\n",
      "============================================================\n",
      "\n",
      "Searching for: \"What family does the pink fairy-duster (Calliandra eriophylla) belong to?\"\n",
      "✓ Found 5 results\n"
     ]
    },
    {
     "name": "stderr",
     "output_type": "stream",
     "text": [
      "Evaluating:  87%|█████████████████████████████████████████████████████████████████████████████████████████████████████████████████████████████████████████████████████████████████████████████████████████████████████████████████████████████████████████████████████████████████████████████▌                                         | 130/150 [21:33<02:33,  7.70s/it]"
     ]
    },
    {
     "name": "stdout",
     "output_type": "stream",
     "text": [
      "Searching for: \"Is the pink fairy-duster suitable for arid garden landscapes in Arizona?\"\n",
      "✓ Found 5 results\n",
      "\n",
      "============================================================\n",
      "RAG Pipeline\n",
      "============================================================\n",
      "Searching for: \"Is the pink fairy-duster suitable for arid garden landscapes in Arizona?\"\n",
      "✓ Found 5 results\n",
      "Generating answer...\n",
      "✓ Answer generated\n",
      "============================================================\n",
      "\n",
      "Searching for: \"Is the pink fairy-duster suitable for arid garden landscapes in Arizona?\"\n",
      "✓ Found 5 results\n"
     ]
    },
    {
     "name": "stderr",
     "output_type": "stream",
     "text": [
      "Evaluating:  87%|███████████████████████████████████████████████████████████████████████████████████████████████████████████████████████████████████████████████████████████████████████████████████████████████████████████████████████████████████████████████████████████████████████████████▌                                       | 131/150 [21:36<01:58,  6.21s/it]"
     ]
    },
    {
     "name": "stdout",
     "output_type": "stream",
     "text": [
      "Searching for: \"How can I identify the pink fairy-duster among other desert shrubs?\"\n",
      "✓ Found 5 results\n",
      "\n",
      "============================================================\n",
      "RAG Pipeline\n",
      "============================================================\n",
      "Searching for: \"How can I identify the pink fairy-duster among other desert shrubs?\"\n",
      "✓ Found 5 results\n",
      "Generating answer...\n",
      "✓ Answer generated\n",
      "============================================================\n",
      "\n",
      "Searching for: \"How can I identify the pink fairy-duster among other desert shrubs?\"\n",
      "✓ Found 5 results\n"
     ]
    },
    {
     "name": "stderr",
     "output_type": "stream",
     "text": [
      "Evaluating:  88%|█████████████████████████████████████████████████████████████████████████████████████████████████████████████████████████████████████████████████████████████████████████████████████████████████████████████████████████████████████████████████████████████████████████████████▋                                     | 132/150 [21:40<01:38,  5.47s/it]"
     ]
    },
    {
     "name": "stdout",
     "output_type": "stream",
     "text": [
      "Searching for: \"What are the common names for Neltuma pallida?\"\n",
      "✓ Found 5 results\n",
      "\n",
      "============================================================\n",
      "RAG Pipeline\n",
      "============================================================\n",
      "Searching for: \"What are the common names for Neltuma pallida?\"\n",
      "✓ Found 5 results\n",
      "Generating answer...\n",
      "✓ Answer generated\n",
      "============================================================\n",
      "\n",
      "Searching for: \"What are the common names for Neltuma pallida?\"\n",
      "✓ Found 5 results\n"
     ]
    },
    {
     "name": "stderr",
     "output_type": "stream",
     "text": [
      "Evaluating:  89%|███████████████████████████████████████████████████████████████████████████████████████████████████████████████████████████████████████████████████████████████████████████████████████████████████████████████████████████████████████████████████████████████████████████████████▊                                   | 133/150 [21:56<02:26,  8.60s/it]"
     ]
    },
    {
     "name": "stdout",
     "output_type": "stream",
     "text": [
      "Searching for: \"Is kiawe suitable for planting in dry areas of Arizona?\"\n",
      "✓ Found 5 results\n",
      "\n",
      "============================================================\n",
      "RAG Pipeline\n",
      "============================================================\n",
      "Searching for: \"Is kiawe suitable for planting in dry areas of Arizona?\"\n",
      "✓ Found 5 results\n",
      "Generating answer...\n",
      "✓ Answer generated\n",
      "============================================================\n",
      "\n",
      "Searching for: \"Is kiawe suitable for planting in dry areas of Arizona?\"\n",
      "✓ Found 5 results\n"
     ]
    },
    {
     "name": "stderr",
     "output_type": "stream",
     "text": [
      "Evaluating:  89%|█████████████████████████████████████████████████████████████████████████████████████████████████████████████████████████████████████████████████████████████████████████████████████████████████████████████████████████████████████████████████████████████████████████████████████▊                                 | 134/150 [22:32<04:28, 16.79s/it]"
     ]
    },
    {
     "name": "stdout",
     "output_type": "stream",
     "text": [
      "Searching for: \"What family does the kiawe tree belong to?\"\n",
      "✓ Found 5 results\n",
      "\n",
      "============================================================\n",
      "RAG Pipeline\n",
      "============================================================\n",
      "Searching for: \"What family does the kiawe tree belong to?\"\n",
      "✓ Found 5 results\n",
      "Generating answer...\n",
      "✓ Answer generated\n",
      "============================================================\n",
      "\n",
      "Searching for: \"What family does the kiawe tree belong to?\"\n",
      "✓ Found 5 results\n"
     ]
    },
    {
     "name": "stderr",
     "output_type": "stream",
     "text": [
      "Evaluating:  90%|███████████████████████████████████████████████████████████████████████████████████████████████████████████████████████████████████████████████████████████████████████████████████████████████████████████████████████████████████████████████████████████████████████████████████████▉                               | 135/150 [22:35<03:09, 12.66s/it]"
     ]
    },
    {
     "name": "stdout",
     "output_type": "stream",
     "text": [
      "Searching for: \"What family does the Eyed Baileya Moth belong to?\"\n",
      "✓ Found 5 results\n",
      "\n",
      "============================================================\n",
      "RAG Pipeline\n",
      "============================================================\n",
      "Searching for: \"What family does the Eyed Baileya Moth belong to?\"\n",
      "✓ Found 5 results\n",
      "Generating answer...\n",
      "✓ Answer generated\n",
      "============================================================\n",
      "\n",
      "Searching for: \"What family does the Eyed Baileya Moth belong to?\"\n",
      "✓ Found 5 results\n"
     ]
    },
    {
     "name": "stderr",
     "output_type": "stream",
     "text": [
      "Evaluating:  91%|█████████████████████████████████████████████████████████████████████████████████████████████████████████████████████████████████████████████████████████████████████████████████████████████████████████████████████████████████████████████████████████████████████████████████████████▉                             | 136/150 [22:37<02:13,  9.53s/it]"
     ]
    },
    {
     "name": "stdout",
     "output_type": "stream",
     "text": [
      "Searching for: \"How many observations of the Eyed Baileya Moth have been recorded in Arizona?\"\n",
      "✓ Found 5 results\n",
      "\n",
      "============================================================\n",
      "RAG Pipeline\n",
      "============================================================\n",
      "Searching for: \"How many observations of the Eyed Baileya Moth have been recorded in Arizona?\"\n",
      "✓ Found 5 results\n",
      "Generating answer...\n",
      "✓ Answer generated\n",
      "============================================================\n",
      "\n",
      "Searching for: \"How many observations of the Eyed Baileya Moth have been recorded in Arizona?\"\n",
      "✓ Found 5 results\n"
     ]
    },
    {
     "name": "stderr",
     "output_type": "stream",
     "text": [
      "Evaluating:  91%|████████████████████████████████████████████████████████████████████████████████████████████████████████████████████████████████████████████████████████████████████████████████████████████████████████████████████████████████████████████████████████████████████████████████████████████                           | 137/150 [22:39<01:34,  7.29s/it]"
     ]
    },
    {
     "name": "stdout",
     "output_type": "stream",
     "text": [
      "Searching for: \"Is the Eyed Baileya Moth commonly found in desert garden environments?\"\n",
      "✓ Found 5 results\n",
      "\n",
      "============================================================\n",
      "RAG Pipeline\n",
      "============================================================\n",
      "Searching for: \"Is the Eyed Baileya Moth commonly found in desert garden environments?\"\n",
      "✓ Found 5 results\n",
      "Generating answer...\n",
      "✓ Answer generated\n",
      "============================================================\n",
      "\n",
      "Searching for: \"Is the Eyed Baileya Moth commonly found in desert garden environments?\"\n",
      "✓ Found 5 results\n"
     ]
    },
    {
     "name": "stderr",
     "output_type": "stream",
     "text": [
      "Evaluating:  92%|██████████████████████████████████████████████████████████████████████████████████████████████████████████████████████████████████████████████████████████████████████████████████████████████████████████████████████████████████████████████████████████████████████████████████████████████                         | 138/150 [22:42<01:13,  6.09s/it]"
     ]
    },
    {
     "name": "stdout",
     "output_type": "stream",
     "text": [
      "Searching for: \"What family does Schaffner's acacia belong to?\"\n",
      "✓ Found 5 results\n",
      "\n",
      "============================================================\n",
      "RAG Pipeline\n",
      "============================================================\n",
      "Searching for: \"What family does Schaffner's acacia belong to?\"\n",
      "✓ Found 5 results\n",
      "Generating answer...\n",
      "✓ Answer generated\n",
      "============================================================\n",
      "\n",
      "Searching for: \"What family does Schaffner's acacia belong to?\"\n",
      "✓ Found 5 results\n"
     ]
    },
    {
     "name": "stderr",
     "output_type": "stream",
     "text": [
      "Evaluating:  93%|████████████████████████████████████████████████████████████████████████████████████████████████████████████████████████████████████████████████████████████████████████████████████████████████████████████████████████████████████████████████████████████████████████████████████████████████▏                      | 139/150 [22:44<00:54,  4.93s/it]"
     ]
    },
    {
     "name": "stdout",
     "output_type": "stream",
     "text": [
      "Searching for: \"Is Vachellia schaffneri suitable for planting in Arizona gardens?\"\n",
      "✓ Found 5 results\n",
      "\n",
      "============================================================\n",
      "RAG Pipeline\n",
      "============================================================\n",
      "Searching for: \"Is Vachellia schaffneri suitable for planting in Arizona gardens?\"\n",
      "✓ Found 5 results\n",
      "Generating answer...\n",
      "✓ Answer generated\n",
      "============================================================\n",
      "\n",
      "Searching for: \"Is Vachellia schaffneri suitable for planting in Arizona gardens?\"\n",
      "✓ Found 5 results\n"
     ]
    },
    {
     "name": "stderr",
     "output_type": "stream",
     "text": [
      "Evaluating:  93%|██████████████████████████████████████████████████████████████████████████████████████████████████████████████████████████████████████████████████████████████████████████████████████████████████████████████████████████████████████████████████████████████████████████████████████████████████▎                    | 140/150 [22:58<01:14,  7.42s/it]"
     ]
    },
    {
     "name": "stdout",
     "output_type": "stream",
     "text": [
      "Searching for: \"How can I identify a twisted acacia in the wild?\"\n",
      "✓ Found 5 results\n",
      "\n",
      "============================================================\n",
      "RAG Pipeline\n",
      "============================================================\n",
      "Searching for: \"How can I identify a twisted acacia in the wild?\"\n",
      "✓ Found 5 results\n",
      "Generating answer...\n",
      "✓ Answer generated\n",
      "============================================================\n",
      "\n",
      "Searching for: \"How can I identify a twisted acacia in the wild?\"\n",
      "✓ Found 5 results\n"
     ]
    },
    {
     "name": "stderr",
     "output_type": "stream",
     "text": [
      "Evaluating:  94%|████████████████████████████████████████████████████████████████████████████████████████████████████████████████████████████████████████████████████████████████████████████████████████████████████████████████████████████████████████████████████████████████████████████████████████████████████▎                  | 141/150 [23:33<02:23, 15.94s/it]"
     ]
    },
    {
     "name": "stdout",
     "output_type": "stream",
     "text": [
      "Searching for: \"What are the common names for Fouquieria splendens?\"\n",
      "✓ Found 5 results\n",
      "\n",
      "============================================================\n",
      "RAG Pipeline\n",
      "============================================================\n",
      "Searching for: \"What are the common names for Fouquieria splendens?\"\n",
      "✓ Found 5 results\n",
      "Generating answer...\n",
      "✓ Answer generated\n",
      "============================================================\n",
      "\n",
      "Searching for: \"What are the common names for Fouquieria splendens?\"\n",
      "✓ Found 5 results\n"
     ]
    },
    {
     "name": "stderr",
     "output_type": "stream",
     "text": [
      "Evaluating:  95%|██████████████████████████████████████████████████████████████████████████████████████████████████████████████████████████████████████████████████████████████████████████████████████████████████████████████████████████████████████████████████████████████████████████████████████████████████████▍                | 142/150 [23:36<01:34, 11.79s/it]"
     ]
    },
    {
     "name": "stdout",
     "output_type": "stream",
     "text": [
      "Searching for: \"In which regions of the Southwestern United States is ocotillo native?\"\n",
      "✓ Found 5 results\n",
      "\n",
      "============================================================\n",
      "RAG Pipeline\n",
      "============================================================\n",
      "Searching for: \"In which regions of the Southwestern United States is ocotillo native?\"\n",
      "✓ Found 5 results\n",
      "Generating answer...\n",
      "✓ Answer generated\n",
      "============================================================\n",
      "\n",
      "Searching for: \"In which regions of the Southwestern United States is ocotillo native?\"\n",
      "✓ Found 5 results\n"
     ]
    },
    {
     "name": "stderr",
     "output_type": "stream",
     "text": [
      "Evaluating:  95%|████████████████████████████████████████████████████████████████████████████████████████████████████████████████████████████████████████████████████████████████████████████████████████████████████████████████████████████████████████████████████████████████████████████████████████████████████████▍              | 143/150 [23:39<01:05,  9.32s/it]"
     ]
    },
    {
     "name": "stdout",
     "output_type": "stream",
     "text": [
      "Searching for: \"How many observations of ocotillo have been recorded in Arizona?\"\n",
      "✓ Found 5 results\n",
      "\n",
      "============================================================\n",
      "RAG Pipeline\n",
      "============================================================\n",
      "Searching for: \"How many observations of ocotillo have been recorded in Arizona?\"\n",
      "✓ Found 5 results\n",
      "Generating answer...\n",
      "✓ Answer generated\n",
      "============================================================\n",
      "\n",
      "Searching for: \"How many observations of ocotillo have been recorded in Arizona?\"\n",
      "✓ Found 5 results\n"
     ]
    },
    {
     "name": "stderr",
     "output_type": "stream",
     "text": [
      "Evaluating:  96%|██████████████████████████████████████████████████████████████████████████████████████████████████████████████████████████████████████████████████████████████████████████████████████████████████████████████████████████████████████████████████████████████████████████████████████████████████████████▌            | 144/150 [23:43<00:46,  7.75s/it]"
     ]
    },
    {
     "name": "stdout",
     "output_type": "stream",
     "text": [
      "Searching for: \"What role does velvet mesquite play in the ecology of the Sonoran Desert?\"\n",
      "✓ Found 5 results\n",
      "\n",
      "============================================================\n",
      "RAG Pipeline\n",
      "============================================================\n",
      "Searching for: \"What role does velvet mesquite play in the ecology of the Sonoran Desert?\"\n",
      "✓ Found 5 results\n",
      "Generating answer...\n",
      "✓ Answer generated\n",
      "============================================================\n",
      "\n",
      "Searching for: \"What role does velvet mesquite play in the ecology of the Sonoran Desert?\"\n",
      "✓ Found 5 results\n"
     ]
    },
    {
     "name": "stderr",
     "output_type": "stream",
     "text": [
      "Evaluating:  97%|████████████████████████████████████████████████████████████████████████████████████████████████████████████████████████████████████████████████████████████████████████████████████████████████████████████████████████████████████████████████████████████████████████████████████████████████████████████▋          | 145/150 [23:56<00:46,  9.33s/it]"
     ]
    },
    {
     "name": "stdout",
     "output_type": "stream",
     "text": [
      "Searching for: \"Is velvet mesquite considered a noxious weed in Arizona?\"\n",
      "✓ Found 5 results\n",
      "\n",
      "============================================================\n",
      "RAG Pipeline\n",
      "============================================================\n",
      "Searching for: \"Is velvet mesquite considered a noxious weed in Arizona?\"\n",
      "✓ Found 5 results\n",
      "Generating answer...\n",
      "✓ Answer generated\n",
      "============================================================\n",
      "\n",
      "Searching for: \"Is velvet mesquite considered a noxious weed in Arizona?\"\n",
      "✓ Found 5 results\n"
     ]
    },
    {
     "name": "stderr",
     "output_type": "stream",
     "text": [
      "Evaluating:  97%|██████████████████████████████████████████████████████████████████████████████████████████████████████████████████████████████████████████████████████████████████████████████████████████████████████████████████████████████████████████████████████████████████████████████████████████████████████████████▋        | 146/150 [24:32<01:08, 17.22s/it]"
     ]
    },
    {
     "name": "stdout",
     "output_type": "stream",
     "text": [
      "Searching for: \"What is the scientific name of velvet mesquite and how can I identify it in my garden?\"\n",
      "✓ Found 5 results\n",
      "\n",
      "============================================================\n",
      "RAG Pipeline\n",
      "============================================================\n",
      "Searching for: \"What is the scientific name of velvet mesquite and how can I identify it in my garden?\"\n",
      "✓ Found 5 results\n",
      "Generating answer...\n",
      "✓ Answer generated\n",
      "============================================================\n",
      "\n",
      "Searching for: \"What is the scientific name of velvet mesquite and how can I identify it in my garden?\"\n",
      "✓ Found 5 results\n"
     ]
    },
    {
     "name": "stderr",
     "output_type": "stream",
     "text": [
      "Evaluating:  98%|████████████████████████████████████████████████████████████████████████████████████████████████████████████████████████████████████████████████████████████████████████████████████████████████████████████████████████████████████████████████████████████████████████████████████████████████████████████████▊      | 147/150 [24:37<00:40, 13.57s/it]"
     ]
    },
    {
     "name": "stdout",
     "output_type": "stream",
     "text": [
      "Searching for: \"What are the typical habitats where Baileya australis can be found in Arizona?\"\n",
      "✓ Found 5 results\n",
      "\n",
      "============================================================\n",
      "RAG Pipeline\n",
      "============================================================\n",
      "Searching for: \"What are the typical habitats where Baileya australis can be found in Arizona?\"\n",
      "✓ Found 5 results\n",
      "Generating answer...\n",
      "✓ Answer generated\n",
      "============================================================\n",
      "\n",
      "Searching for: \"What are the typical habitats where Baileya australis can be found in Arizona?\"\n",
      "✓ Found 5 results\n"
     ]
    },
    {
     "name": "stderr",
     "output_type": "stream",
     "text": [
      "Evaluating:  99%|██████████████████████████████████████████████████████████████████████████████████████████████████████████████████████████████████████████████████████████████████████████████████████████████████████████████████████████████████████████████████████████████████████████████████████████████████████████████████▊    | 148/150 [24:40<00:20, 10.35s/it]"
     ]
    },
    {
     "name": "stdout",
     "output_type": "stream",
     "text": [
      "Searching for: \"How might the presence of the small baileya moth affect my garden plants?\"\n",
      "✓ Found 5 results\n",
      "\n",
      "============================================================\n",
      "RAG Pipeline\n",
      "============================================================\n",
      "Searching for: \"How might the presence of the small baileya moth affect my garden plants?\"\n",
      "✓ Found 5 results\n",
      "Generating answer...\n",
      "✓ Answer generated\n",
      "============================================================\n",
      "\n",
      "Searching for: \"How might the presence of the small baileya moth affect my garden plants?\"\n",
      "✓ Found 5 results\n"
     ]
    },
    {
     "name": "stderr",
     "output_type": "stream",
     "text": [
      "Evaluating:  99%|████████████████████████████████████████████████████████████████████████████████████████████████████████████████████████████████████████████████████████████████████████████████████████████████████████████████████████████████████████████████████████████████████████████████████████████████████████████████████▉  | 149/150 [24:45<00:08,  8.74s/it]"
     ]
    },
    {
     "name": "stdout",
     "output_type": "stream",
     "text": [
      "Searching for: \"Is Baileya australis attracted to specific types of plants commonly found in Arizona gardens?\"\n",
      "✓ Found 5 results\n",
      "\n",
      "============================================================\n",
      "RAG Pipeline\n",
      "============================================================\n",
      "Searching for: \"Is Baileya australis attracted to specific types of plants commonly found in Arizona gardens?\"\n",
      "✓ Found 5 results\n",
      "Generating answer...\n",
      "✓ Answer generated\n",
      "============================================================\n",
      "\n",
      "Searching for: \"Is Baileya australis attracted to specific types of plants commonly found in Arizona gardens?\"\n",
      "✓ Found 5 results\n"
     ]
    },
    {
     "name": "stderr",
     "output_type": "stream",
     "text": [
      "Evaluating: 100%|███████████████████████████████████████████████████████████████████████████████████████████████████████████████████████████████████████████████████████████████████████████████████████████████████████████████████████████████████████████████████████████████████████████████████████████████████████████████████████| 150/150 [24:48<00:00,  9.92s/it]"
     ]
    },
    {
     "name": "stdout",
     "output_type": "stream",
     "text": [
      "\n",
      "============================================================\n",
      "EVALUATION RESULTS\n",
      "============================================================\n",
      "\n",
      "📊 Retrieval Metrics:\n",
      "  Hit Rate@5: 96.00%\n",
      "  Mean Reciprocal Rank: 0.919\n",
      "\n",
      "📝 Answer Quality (Average scores out of 5):\n",
      "  Relevance:     4.88\n",
      "  Faithfulness:  4.93\n",
      "  Completeness:  4.60\n",
      "  Clarity:       4.97\n",
      "  Overall:       4.84\n",
      "\n",
      "✓ Detailed results saved to: rag_evaluation_results.csv\n",
      "\n",
      "Lowest scoring questions:\n",
      "                                              question  average_score\n",
      "81   What are the common names for Cylindropuntia f...           2.75\n",
      "5    What is another common name for Cylindropuntia...           3.25\n",
      "20   Is Penstemon digitalis suitable for Arizona ga...           3.75\n",
      "147  What are the typical habitats where Baileya au...           3.75\n",
      "149  Is Baileya australis attracted to specific typ...           3.75\n"
     ]
    },
    {
     "name": "stderr",
     "output_type": "stream",
     "text": [
      "\n"
     ]
    }
   ],
   "source": [
    "# Load the existing ground truth\n",
    "with open('evaluation/ground_truth_qa.json', 'r') as f:\n",
    "    ground_truth = json.load(f)\n",
    "\n",
    "# Run evaluation\n",
    "results_df = evaluator.evaluate_rag_system(ground_truth)\n",
    "\n",
    "# Analyze results\n",
    "print(\"\\nLowest scoring questions:\")\n",
    "print(results_df.nsmallest(5, 'average_score')[['question', 'average_score']])"
   ]
  }
 ],
 "metadata": {
  "kernelspec": {
   "display_name": "Python 3 (ipykernel)",
   "language": "python",
   "name": "python3"
  }
 },
 "nbformat": 4,
 "nbformat_minor": 5
}
